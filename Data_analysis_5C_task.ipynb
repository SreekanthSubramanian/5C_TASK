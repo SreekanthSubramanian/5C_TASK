{
  "nbformat": 4,
  "nbformat_minor": 0,
  "metadata": {
    "colab": {
      "provenance": []
    },
    "kernelspec": {
      "name": "python3",
      "display_name": "Python 3"
    },
    "language_info": {
      "name": "python"
    }
  },
  "cells": [
    {
      "cell_type": "code",
      "source": [
        "import pandas as pd"
      ],
      "metadata": {
        "id": "Vf8-7CEGka-9"
      },
      "execution_count": 58,
      "outputs": []
    },
    {
      "cell_type": "code",
      "source": [
        "df = pd.read_csv('/content/sales_data_1.csv')"
      ],
      "metadata": {
        "id": "-KiaJRtAkeZa"
      },
      "execution_count": 59,
      "outputs": []
    },
    {
      "cell_type": "code",
      "source": [
        "df"
      ],
      "metadata": {
        "colab": {
          "base_uri": "https://localhost:8080/",
          "height": 423
        },
        "id": "yKjjU6BHkhn8",
        "outputId": "174d234f-12c7-49cf-a8f9-5559bdac9fc8"
      },
      "execution_count": 60,
      "outputs": [
        {
          "output_type": "execute_result",
          "data": {
            "text/plain": [
              "        Date Firm bought from  Buying price   Customer  Selling price  \\\n",
              "0   21/08/23          Vendor6         72.11  Customer7          91.58   \n",
              "1   21/08/23          Vendor4         75.08  Customer7          83.71   \n",
              "2   21/08/23          Vendor7         83.93  Customer2         103.76   \n",
              "3   21/08/23          Vendor7         52.01  Customer3          64.53   \n",
              "4   21/08/23          Vendor2         98.91  Customer5         140.92   \n",
              "..       ...              ...           ...        ...            ...   \n",
              "65  27/08/23          Vendor4         64.82  Customer6          87.45   \n",
              "66  27/08/23          Vendor8         88.79  Customer3         105.59   \n",
              "67  27/08/23          Vendor5         63.30  Customer5          92.92   \n",
              "68  27/08/23          Vendor5         94.06  Customer5         125.67   \n",
              "69  27/08/23          Vendor5         56.28  Customer6          82.16   \n",
              "\n",
              "    Quantity sold  \n",
              "0              44  \n",
              "1              17  \n",
              "2              15  \n",
              "3               7  \n",
              "4               1  \n",
              "..            ...  \n",
              "65             18  \n",
              "66              5  \n",
              "67             32  \n",
              "68              4  \n",
              "69              1  \n",
              "\n",
              "[70 rows x 6 columns]"
            ],
            "text/html": [
              "\n",
              "  <div id=\"df-15e75f7a-0650-489a-b15c-b0bc79b64484\" class=\"colab-df-container\">\n",
              "    <div>\n",
              "<style scoped>\n",
              "    .dataframe tbody tr th:only-of-type {\n",
              "        vertical-align: middle;\n",
              "    }\n",
              "\n",
              "    .dataframe tbody tr th {\n",
              "        vertical-align: top;\n",
              "    }\n",
              "\n",
              "    .dataframe thead th {\n",
              "        text-align: right;\n",
              "    }\n",
              "</style>\n",
              "<table border=\"1\" class=\"dataframe\">\n",
              "  <thead>\n",
              "    <tr style=\"text-align: right;\">\n",
              "      <th></th>\n",
              "      <th>Date</th>\n",
              "      <th>Firm bought from</th>\n",
              "      <th>Buying price</th>\n",
              "      <th>Customer</th>\n",
              "      <th>Selling price</th>\n",
              "      <th>Quantity sold</th>\n",
              "    </tr>\n",
              "  </thead>\n",
              "  <tbody>\n",
              "    <tr>\n",
              "      <th>0</th>\n",
              "      <td>21/08/23</td>\n",
              "      <td>Vendor6</td>\n",
              "      <td>72.11</td>\n",
              "      <td>Customer7</td>\n",
              "      <td>91.58</td>\n",
              "      <td>44</td>\n",
              "    </tr>\n",
              "    <tr>\n",
              "      <th>1</th>\n",
              "      <td>21/08/23</td>\n",
              "      <td>Vendor4</td>\n",
              "      <td>75.08</td>\n",
              "      <td>Customer7</td>\n",
              "      <td>83.71</td>\n",
              "      <td>17</td>\n",
              "    </tr>\n",
              "    <tr>\n",
              "      <th>2</th>\n",
              "      <td>21/08/23</td>\n",
              "      <td>Vendor7</td>\n",
              "      <td>83.93</td>\n",
              "      <td>Customer2</td>\n",
              "      <td>103.76</td>\n",
              "      <td>15</td>\n",
              "    </tr>\n",
              "    <tr>\n",
              "      <th>3</th>\n",
              "      <td>21/08/23</td>\n",
              "      <td>Vendor7</td>\n",
              "      <td>52.01</td>\n",
              "      <td>Customer3</td>\n",
              "      <td>64.53</td>\n",
              "      <td>7</td>\n",
              "    </tr>\n",
              "    <tr>\n",
              "      <th>4</th>\n",
              "      <td>21/08/23</td>\n",
              "      <td>Vendor2</td>\n",
              "      <td>98.91</td>\n",
              "      <td>Customer5</td>\n",
              "      <td>140.92</td>\n",
              "      <td>1</td>\n",
              "    </tr>\n",
              "    <tr>\n",
              "      <th>...</th>\n",
              "      <td>...</td>\n",
              "      <td>...</td>\n",
              "      <td>...</td>\n",
              "      <td>...</td>\n",
              "      <td>...</td>\n",
              "      <td>...</td>\n",
              "    </tr>\n",
              "    <tr>\n",
              "      <th>65</th>\n",
              "      <td>27/08/23</td>\n",
              "      <td>Vendor4</td>\n",
              "      <td>64.82</td>\n",
              "      <td>Customer6</td>\n",
              "      <td>87.45</td>\n",
              "      <td>18</td>\n",
              "    </tr>\n",
              "    <tr>\n",
              "      <th>66</th>\n",
              "      <td>27/08/23</td>\n",
              "      <td>Vendor8</td>\n",
              "      <td>88.79</td>\n",
              "      <td>Customer3</td>\n",
              "      <td>105.59</td>\n",
              "      <td>5</td>\n",
              "    </tr>\n",
              "    <tr>\n",
              "      <th>67</th>\n",
              "      <td>27/08/23</td>\n",
              "      <td>Vendor5</td>\n",
              "      <td>63.30</td>\n",
              "      <td>Customer5</td>\n",
              "      <td>92.92</td>\n",
              "      <td>32</td>\n",
              "    </tr>\n",
              "    <tr>\n",
              "      <th>68</th>\n",
              "      <td>27/08/23</td>\n",
              "      <td>Vendor5</td>\n",
              "      <td>94.06</td>\n",
              "      <td>Customer5</td>\n",
              "      <td>125.67</td>\n",
              "      <td>4</td>\n",
              "    </tr>\n",
              "    <tr>\n",
              "      <th>69</th>\n",
              "      <td>27/08/23</td>\n",
              "      <td>Vendor5</td>\n",
              "      <td>56.28</td>\n",
              "      <td>Customer6</td>\n",
              "      <td>82.16</td>\n",
              "      <td>1</td>\n",
              "    </tr>\n",
              "  </tbody>\n",
              "</table>\n",
              "<p>70 rows × 6 columns</p>\n",
              "</div>\n",
              "    <div class=\"colab-df-buttons\">\n",
              "\n",
              "  <div class=\"colab-df-container\">\n",
              "    <button class=\"colab-df-convert\" onclick=\"convertToInteractive('df-15e75f7a-0650-489a-b15c-b0bc79b64484')\"\n",
              "            title=\"Convert this dataframe to an interactive table.\"\n",
              "            style=\"display:none;\">\n",
              "\n",
              "  <svg xmlns=\"http://www.w3.org/2000/svg\" height=\"24px\" viewBox=\"0 -960 960 960\">\n",
              "    <path d=\"M120-120v-720h720v720H120Zm60-500h600v-160H180v160Zm220 220h160v-160H400v160Zm0 220h160v-160H400v160ZM180-400h160v-160H180v160Zm440 0h160v-160H620v160ZM180-180h160v-160H180v160Zm440 0h160v-160H620v160Z\"/>\n",
              "  </svg>\n",
              "    </button>\n",
              "\n",
              "  <style>\n",
              "    .colab-df-container {\n",
              "      display:flex;\n",
              "      gap: 12px;\n",
              "    }\n",
              "\n",
              "    .colab-df-convert {\n",
              "      background-color: #E8F0FE;\n",
              "      border: none;\n",
              "      border-radius: 50%;\n",
              "      cursor: pointer;\n",
              "      display: none;\n",
              "      fill: #1967D2;\n",
              "      height: 32px;\n",
              "      padding: 0 0 0 0;\n",
              "      width: 32px;\n",
              "    }\n",
              "\n",
              "    .colab-df-convert:hover {\n",
              "      background-color: #E2EBFA;\n",
              "      box-shadow: 0px 1px 2px rgba(60, 64, 67, 0.3), 0px 1px 3px 1px rgba(60, 64, 67, 0.15);\n",
              "      fill: #174EA6;\n",
              "    }\n",
              "\n",
              "    .colab-df-buttons div {\n",
              "      margin-bottom: 4px;\n",
              "    }\n",
              "\n",
              "    [theme=dark] .colab-df-convert {\n",
              "      background-color: #3B4455;\n",
              "      fill: #D2E3FC;\n",
              "    }\n",
              "\n",
              "    [theme=dark] .colab-df-convert:hover {\n",
              "      background-color: #434B5C;\n",
              "      box-shadow: 0px 1px 3px 1px rgba(0, 0, 0, 0.15);\n",
              "      filter: drop-shadow(0px 1px 2px rgba(0, 0, 0, 0.3));\n",
              "      fill: #FFFFFF;\n",
              "    }\n",
              "  </style>\n",
              "\n",
              "    <script>\n",
              "      const buttonEl =\n",
              "        document.querySelector('#df-15e75f7a-0650-489a-b15c-b0bc79b64484 button.colab-df-convert');\n",
              "      buttonEl.style.display =\n",
              "        google.colab.kernel.accessAllowed ? 'block' : 'none';\n",
              "\n",
              "      async function convertToInteractive(key) {\n",
              "        const element = document.querySelector('#df-15e75f7a-0650-489a-b15c-b0bc79b64484');\n",
              "        const dataTable =\n",
              "          await google.colab.kernel.invokeFunction('convertToInteractive',\n",
              "                                                    [key], {});\n",
              "        if (!dataTable) return;\n",
              "\n",
              "        const docLinkHtml = 'Like what you see? Visit the ' +\n",
              "          '<a target=\"_blank\" href=https://colab.research.google.com/notebooks/data_table.ipynb>data table notebook</a>'\n",
              "          + ' to learn more about interactive tables.';\n",
              "        element.innerHTML = '';\n",
              "        dataTable['output_type'] = 'display_data';\n",
              "        await google.colab.output.renderOutput(dataTable, element);\n",
              "        const docLink = document.createElement('div');\n",
              "        docLink.innerHTML = docLinkHtml;\n",
              "        element.appendChild(docLink);\n",
              "      }\n",
              "    </script>\n",
              "  </div>\n",
              "\n",
              "\n",
              "<div id=\"df-3df20a08-90a8-4ec7-a28b-76b722db24c2\">\n",
              "  <button class=\"colab-df-quickchart\" onclick=\"quickchart('df-3df20a08-90a8-4ec7-a28b-76b722db24c2')\"\n",
              "            title=\"Suggest charts.\"\n",
              "            style=\"display:none;\">\n",
              "\n",
              "<svg xmlns=\"http://www.w3.org/2000/svg\" height=\"24px\"viewBox=\"0 0 24 24\"\n",
              "     width=\"24px\">\n",
              "    <g>\n",
              "        <path d=\"M19 3H5c-1.1 0-2 .9-2 2v14c0 1.1.9 2 2 2h14c1.1 0 2-.9 2-2V5c0-1.1-.9-2-2-2zM9 17H7v-7h2v7zm4 0h-2V7h2v10zm4 0h-2v-4h2v4z\"/>\n",
              "    </g>\n",
              "</svg>\n",
              "  </button>\n",
              "\n",
              "<style>\n",
              "  .colab-df-quickchart {\n",
              "      --bg-color: #E8F0FE;\n",
              "      --fill-color: #1967D2;\n",
              "      --hover-bg-color: #E2EBFA;\n",
              "      --hover-fill-color: #174EA6;\n",
              "      --disabled-fill-color: #AAA;\n",
              "      --disabled-bg-color: #DDD;\n",
              "  }\n",
              "\n",
              "  [theme=dark] .colab-df-quickchart {\n",
              "      --bg-color: #3B4455;\n",
              "      --fill-color: #D2E3FC;\n",
              "      --hover-bg-color: #434B5C;\n",
              "      --hover-fill-color: #FFFFFF;\n",
              "      --disabled-bg-color: #3B4455;\n",
              "      --disabled-fill-color: #666;\n",
              "  }\n",
              "\n",
              "  .colab-df-quickchart {\n",
              "    background-color: var(--bg-color);\n",
              "    border: none;\n",
              "    border-radius: 50%;\n",
              "    cursor: pointer;\n",
              "    display: none;\n",
              "    fill: var(--fill-color);\n",
              "    height: 32px;\n",
              "    padding: 0;\n",
              "    width: 32px;\n",
              "  }\n",
              "\n",
              "  .colab-df-quickchart:hover {\n",
              "    background-color: var(--hover-bg-color);\n",
              "    box-shadow: 0 1px 2px rgba(60, 64, 67, 0.3), 0 1px 3px 1px rgba(60, 64, 67, 0.15);\n",
              "    fill: var(--button-hover-fill-color);\n",
              "  }\n",
              "\n",
              "  .colab-df-quickchart-complete:disabled,\n",
              "  .colab-df-quickchart-complete:disabled:hover {\n",
              "    background-color: var(--disabled-bg-color);\n",
              "    fill: var(--disabled-fill-color);\n",
              "    box-shadow: none;\n",
              "  }\n",
              "\n",
              "  .colab-df-spinner {\n",
              "    border: 2px solid var(--fill-color);\n",
              "    border-color: transparent;\n",
              "    border-bottom-color: var(--fill-color);\n",
              "    animation:\n",
              "      spin 1s steps(1) infinite;\n",
              "  }\n",
              "\n",
              "  @keyframes spin {\n",
              "    0% {\n",
              "      border-color: transparent;\n",
              "      border-bottom-color: var(--fill-color);\n",
              "      border-left-color: var(--fill-color);\n",
              "    }\n",
              "    20% {\n",
              "      border-color: transparent;\n",
              "      border-left-color: var(--fill-color);\n",
              "      border-top-color: var(--fill-color);\n",
              "    }\n",
              "    30% {\n",
              "      border-color: transparent;\n",
              "      border-left-color: var(--fill-color);\n",
              "      border-top-color: var(--fill-color);\n",
              "      border-right-color: var(--fill-color);\n",
              "    }\n",
              "    40% {\n",
              "      border-color: transparent;\n",
              "      border-right-color: var(--fill-color);\n",
              "      border-top-color: var(--fill-color);\n",
              "    }\n",
              "    60% {\n",
              "      border-color: transparent;\n",
              "      border-right-color: var(--fill-color);\n",
              "    }\n",
              "    80% {\n",
              "      border-color: transparent;\n",
              "      border-right-color: var(--fill-color);\n",
              "      border-bottom-color: var(--fill-color);\n",
              "    }\n",
              "    90% {\n",
              "      border-color: transparent;\n",
              "      border-bottom-color: var(--fill-color);\n",
              "    }\n",
              "  }\n",
              "</style>\n",
              "\n",
              "  <script>\n",
              "    async function quickchart(key) {\n",
              "      const quickchartButtonEl =\n",
              "        document.querySelector('#' + key + ' button');\n",
              "      quickchartButtonEl.disabled = true;  // To prevent multiple clicks.\n",
              "      quickchartButtonEl.classList.add('colab-df-spinner');\n",
              "      try {\n",
              "        const charts = await google.colab.kernel.invokeFunction(\n",
              "            'suggestCharts', [key], {});\n",
              "      } catch (error) {\n",
              "        console.error('Error during call to suggestCharts:', error);\n",
              "      }\n",
              "      quickchartButtonEl.classList.remove('colab-df-spinner');\n",
              "      quickchartButtonEl.classList.add('colab-df-quickchart-complete');\n",
              "    }\n",
              "    (() => {\n",
              "      let quickchartButtonEl =\n",
              "        document.querySelector('#df-3df20a08-90a8-4ec7-a28b-76b722db24c2 button');\n",
              "      quickchartButtonEl.style.display =\n",
              "        google.colab.kernel.accessAllowed ? 'block' : 'none';\n",
              "    })();\n",
              "  </script>\n",
              "</div>\n",
              "    </div>\n",
              "  </div>\n"
            ]
          },
          "metadata": {},
          "execution_count": 60
        }
      ]
    },
    {
      "cell_type": "markdown",
      "source": [
        "1.**Overall gross margin for their business**"
      ],
      "metadata": {
        "id": "84cELbw4a9tC"
      }
    },
    {
      "cell_type": "code",
      "execution_count": 61,
      "metadata": {
        "colab": {
          "base_uri": "https://localhost:8080/"
        },
        "id": "ezkjzjQEX3dN",
        "outputId": "9bca39f1-23fd-4495-fe6e-e8207032109f"
      },
      "outputs": [
        {
          "output_type": "stream",
          "name": "stdout",
          "text": [
            "Overall Gross Margin: 31482.75\n"
          ]
        }
      ],
      "source": [
        "# Total Revenue\n",
        "df['Total Revenue'] = df['Selling price'] * df['Quantity sold']\n",
        "\n",
        "# Total Cost\n",
        "df['Total Cost'] = df['Buying price'] * df['Quantity sold']\n",
        "\n",
        "# Gross Margin\n",
        "gross_margin = df['Total Revenue'].sum() - df['Total Cost'].sum()\n",
        "print(\"Overall Gross Margin: {:.2f}\".format(gross_margin))\n"
      ]
    },
    {
      "cell_type": "code",
      "source": [
        "df"
      ],
      "metadata": {
        "colab": {
          "base_uri": "https://localhost:8080/",
          "height": 423
        },
        "id": "1OtICOYGkyA6",
        "outputId": "346e3be9-081f-43ac-d88e-d7b56c4845ef"
      },
      "execution_count": 62,
      "outputs": [
        {
          "output_type": "execute_result",
          "data": {
            "text/plain": [
              "        Date Firm bought from  Buying price   Customer  Selling price  \\\n",
              "0   21/08/23          Vendor6         72.11  Customer7          91.58   \n",
              "1   21/08/23          Vendor4         75.08  Customer7          83.71   \n",
              "2   21/08/23          Vendor7         83.93  Customer2         103.76   \n",
              "3   21/08/23          Vendor7         52.01  Customer3          64.53   \n",
              "4   21/08/23          Vendor2         98.91  Customer5         140.92   \n",
              "..       ...              ...           ...        ...            ...   \n",
              "65  27/08/23          Vendor4         64.82  Customer6          87.45   \n",
              "66  27/08/23          Vendor8         88.79  Customer3         105.59   \n",
              "67  27/08/23          Vendor5         63.30  Customer5          92.92   \n",
              "68  27/08/23          Vendor5         94.06  Customer5         125.67   \n",
              "69  27/08/23          Vendor5         56.28  Customer6          82.16   \n",
              "\n",
              "    Quantity sold  Total Revenue  Total Cost  \n",
              "0              44        4029.52     3172.84  \n",
              "1              17        1423.07     1276.36  \n",
              "2              15        1556.40     1258.95  \n",
              "3               7         451.71      364.07  \n",
              "4               1         140.92       98.91  \n",
              "..            ...            ...         ...  \n",
              "65             18        1574.10     1166.76  \n",
              "66              5         527.95      443.95  \n",
              "67             32        2973.44     2025.60  \n",
              "68              4         502.68      376.24  \n",
              "69              1          82.16       56.28  \n",
              "\n",
              "[70 rows x 8 columns]"
            ],
            "text/html": [
              "\n",
              "  <div id=\"df-2fdfe40e-3efc-4fde-a516-a725a57ad74b\" class=\"colab-df-container\">\n",
              "    <div>\n",
              "<style scoped>\n",
              "    .dataframe tbody tr th:only-of-type {\n",
              "        vertical-align: middle;\n",
              "    }\n",
              "\n",
              "    .dataframe tbody tr th {\n",
              "        vertical-align: top;\n",
              "    }\n",
              "\n",
              "    .dataframe thead th {\n",
              "        text-align: right;\n",
              "    }\n",
              "</style>\n",
              "<table border=\"1\" class=\"dataframe\">\n",
              "  <thead>\n",
              "    <tr style=\"text-align: right;\">\n",
              "      <th></th>\n",
              "      <th>Date</th>\n",
              "      <th>Firm bought from</th>\n",
              "      <th>Buying price</th>\n",
              "      <th>Customer</th>\n",
              "      <th>Selling price</th>\n",
              "      <th>Quantity sold</th>\n",
              "      <th>Total Revenue</th>\n",
              "      <th>Total Cost</th>\n",
              "    </tr>\n",
              "  </thead>\n",
              "  <tbody>\n",
              "    <tr>\n",
              "      <th>0</th>\n",
              "      <td>21/08/23</td>\n",
              "      <td>Vendor6</td>\n",
              "      <td>72.11</td>\n",
              "      <td>Customer7</td>\n",
              "      <td>91.58</td>\n",
              "      <td>44</td>\n",
              "      <td>4029.52</td>\n",
              "      <td>3172.84</td>\n",
              "    </tr>\n",
              "    <tr>\n",
              "      <th>1</th>\n",
              "      <td>21/08/23</td>\n",
              "      <td>Vendor4</td>\n",
              "      <td>75.08</td>\n",
              "      <td>Customer7</td>\n",
              "      <td>83.71</td>\n",
              "      <td>17</td>\n",
              "      <td>1423.07</td>\n",
              "      <td>1276.36</td>\n",
              "    </tr>\n",
              "    <tr>\n",
              "      <th>2</th>\n",
              "      <td>21/08/23</td>\n",
              "      <td>Vendor7</td>\n",
              "      <td>83.93</td>\n",
              "      <td>Customer2</td>\n",
              "      <td>103.76</td>\n",
              "      <td>15</td>\n",
              "      <td>1556.40</td>\n",
              "      <td>1258.95</td>\n",
              "    </tr>\n",
              "    <tr>\n",
              "      <th>3</th>\n",
              "      <td>21/08/23</td>\n",
              "      <td>Vendor7</td>\n",
              "      <td>52.01</td>\n",
              "      <td>Customer3</td>\n",
              "      <td>64.53</td>\n",
              "      <td>7</td>\n",
              "      <td>451.71</td>\n",
              "      <td>364.07</td>\n",
              "    </tr>\n",
              "    <tr>\n",
              "      <th>4</th>\n",
              "      <td>21/08/23</td>\n",
              "      <td>Vendor2</td>\n",
              "      <td>98.91</td>\n",
              "      <td>Customer5</td>\n",
              "      <td>140.92</td>\n",
              "      <td>1</td>\n",
              "      <td>140.92</td>\n",
              "      <td>98.91</td>\n",
              "    </tr>\n",
              "    <tr>\n",
              "      <th>...</th>\n",
              "      <td>...</td>\n",
              "      <td>...</td>\n",
              "      <td>...</td>\n",
              "      <td>...</td>\n",
              "      <td>...</td>\n",
              "      <td>...</td>\n",
              "      <td>...</td>\n",
              "      <td>...</td>\n",
              "    </tr>\n",
              "    <tr>\n",
              "      <th>65</th>\n",
              "      <td>27/08/23</td>\n",
              "      <td>Vendor4</td>\n",
              "      <td>64.82</td>\n",
              "      <td>Customer6</td>\n",
              "      <td>87.45</td>\n",
              "      <td>18</td>\n",
              "      <td>1574.10</td>\n",
              "      <td>1166.76</td>\n",
              "    </tr>\n",
              "    <tr>\n",
              "      <th>66</th>\n",
              "      <td>27/08/23</td>\n",
              "      <td>Vendor8</td>\n",
              "      <td>88.79</td>\n",
              "      <td>Customer3</td>\n",
              "      <td>105.59</td>\n",
              "      <td>5</td>\n",
              "      <td>527.95</td>\n",
              "      <td>443.95</td>\n",
              "    </tr>\n",
              "    <tr>\n",
              "      <th>67</th>\n",
              "      <td>27/08/23</td>\n",
              "      <td>Vendor5</td>\n",
              "      <td>63.30</td>\n",
              "      <td>Customer5</td>\n",
              "      <td>92.92</td>\n",
              "      <td>32</td>\n",
              "      <td>2973.44</td>\n",
              "      <td>2025.60</td>\n",
              "    </tr>\n",
              "    <tr>\n",
              "      <th>68</th>\n",
              "      <td>27/08/23</td>\n",
              "      <td>Vendor5</td>\n",
              "      <td>94.06</td>\n",
              "      <td>Customer5</td>\n",
              "      <td>125.67</td>\n",
              "      <td>4</td>\n",
              "      <td>502.68</td>\n",
              "      <td>376.24</td>\n",
              "    </tr>\n",
              "    <tr>\n",
              "      <th>69</th>\n",
              "      <td>27/08/23</td>\n",
              "      <td>Vendor5</td>\n",
              "      <td>56.28</td>\n",
              "      <td>Customer6</td>\n",
              "      <td>82.16</td>\n",
              "      <td>1</td>\n",
              "      <td>82.16</td>\n",
              "      <td>56.28</td>\n",
              "    </tr>\n",
              "  </tbody>\n",
              "</table>\n",
              "<p>70 rows × 8 columns</p>\n",
              "</div>\n",
              "    <div class=\"colab-df-buttons\">\n",
              "\n",
              "  <div class=\"colab-df-container\">\n",
              "    <button class=\"colab-df-convert\" onclick=\"convertToInteractive('df-2fdfe40e-3efc-4fde-a516-a725a57ad74b')\"\n",
              "            title=\"Convert this dataframe to an interactive table.\"\n",
              "            style=\"display:none;\">\n",
              "\n",
              "  <svg xmlns=\"http://www.w3.org/2000/svg\" height=\"24px\" viewBox=\"0 -960 960 960\">\n",
              "    <path d=\"M120-120v-720h720v720H120Zm60-500h600v-160H180v160Zm220 220h160v-160H400v160Zm0 220h160v-160H400v160ZM180-400h160v-160H180v160Zm440 0h160v-160H620v160ZM180-180h160v-160H180v160Zm440 0h160v-160H620v160Z\"/>\n",
              "  </svg>\n",
              "    </button>\n",
              "\n",
              "  <style>\n",
              "    .colab-df-container {\n",
              "      display:flex;\n",
              "      gap: 12px;\n",
              "    }\n",
              "\n",
              "    .colab-df-convert {\n",
              "      background-color: #E8F0FE;\n",
              "      border: none;\n",
              "      border-radius: 50%;\n",
              "      cursor: pointer;\n",
              "      display: none;\n",
              "      fill: #1967D2;\n",
              "      height: 32px;\n",
              "      padding: 0 0 0 0;\n",
              "      width: 32px;\n",
              "    }\n",
              "\n",
              "    .colab-df-convert:hover {\n",
              "      background-color: #E2EBFA;\n",
              "      box-shadow: 0px 1px 2px rgba(60, 64, 67, 0.3), 0px 1px 3px 1px rgba(60, 64, 67, 0.15);\n",
              "      fill: #174EA6;\n",
              "    }\n",
              "\n",
              "    .colab-df-buttons div {\n",
              "      margin-bottom: 4px;\n",
              "    }\n",
              "\n",
              "    [theme=dark] .colab-df-convert {\n",
              "      background-color: #3B4455;\n",
              "      fill: #D2E3FC;\n",
              "    }\n",
              "\n",
              "    [theme=dark] .colab-df-convert:hover {\n",
              "      background-color: #434B5C;\n",
              "      box-shadow: 0px 1px 3px 1px rgba(0, 0, 0, 0.15);\n",
              "      filter: drop-shadow(0px 1px 2px rgba(0, 0, 0, 0.3));\n",
              "      fill: #FFFFFF;\n",
              "    }\n",
              "  </style>\n",
              "\n",
              "    <script>\n",
              "      const buttonEl =\n",
              "        document.querySelector('#df-2fdfe40e-3efc-4fde-a516-a725a57ad74b button.colab-df-convert');\n",
              "      buttonEl.style.display =\n",
              "        google.colab.kernel.accessAllowed ? 'block' : 'none';\n",
              "\n",
              "      async function convertToInteractive(key) {\n",
              "        const element = document.querySelector('#df-2fdfe40e-3efc-4fde-a516-a725a57ad74b');\n",
              "        const dataTable =\n",
              "          await google.colab.kernel.invokeFunction('convertToInteractive',\n",
              "                                                    [key], {});\n",
              "        if (!dataTable) return;\n",
              "\n",
              "        const docLinkHtml = 'Like what you see? Visit the ' +\n",
              "          '<a target=\"_blank\" href=https://colab.research.google.com/notebooks/data_table.ipynb>data table notebook</a>'\n",
              "          + ' to learn more about interactive tables.';\n",
              "        element.innerHTML = '';\n",
              "        dataTable['output_type'] = 'display_data';\n",
              "        await google.colab.output.renderOutput(dataTable, element);\n",
              "        const docLink = document.createElement('div');\n",
              "        docLink.innerHTML = docLinkHtml;\n",
              "        element.appendChild(docLink);\n",
              "      }\n",
              "    </script>\n",
              "  </div>\n",
              "\n",
              "\n",
              "<div id=\"df-7fd023eb-c6d9-4910-ac71-abbea1a7b047\">\n",
              "  <button class=\"colab-df-quickchart\" onclick=\"quickchart('df-7fd023eb-c6d9-4910-ac71-abbea1a7b047')\"\n",
              "            title=\"Suggest charts.\"\n",
              "            style=\"display:none;\">\n",
              "\n",
              "<svg xmlns=\"http://www.w3.org/2000/svg\" height=\"24px\"viewBox=\"0 0 24 24\"\n",
              "     width=\"24px\">\n",
              "    <g>\n",
              "        <path d=\"M19 3H5c-1.1 0-2 .9-2 2v14c0 1.1.9 2 2 2h14c1.1 0 2-.9 2-2V5c0-1.1-.9-2-2-2zM9 17H7v-7h2v7zm4 0h-2V7h2v10zm4 0h-2v-4h2v4z\"/>\n",
              "    </g>\n",
              "</svg>\n",
              "  </button>\n",
              "\n",
              "<style>\n",
              "  .colab-df-quickchart {\n",
              "      --bg-color: #E8F0FE;\n",
              "      --fill-color: #1967D2;\n",
              "      --hover-bg-color: #E2EBFA;\n",
              "      --hover-fill-color: #174EA6;\n",
              "      --disabled-fill-color: #AAA;\n",
              "      --disabled-bg-color: #DDD;\n",
              "  }\n",
              "\n",
              "  [theme=dark] .colab-df-quickchart {\n",
              "      --bg-color: #3B4455;\n",
              "      --fill-color: #D2E3FC;\n",
              "      --hover-bg-color: #434B5C;\n",
              "      --hover-fill-color: #FFFFFF;\n",
              "      --disabled-bg-color: #3B4455;\n",
              "      --disabled-fill-color: #666;\n",
              "  }\n",
              "\n",
              "  .colab-df-quickchart {\n",
              "    background-color: var(--bg-color);\n",
              "    border: none;\n",
              "    border-radius: 50%;\n",
              "    cursor: pointer;\n",
              "    display: none;\n",
              "    fill: var(--fill-color);\n",
              "    height: 32px;\n",
              "    padding: 0;\n",
              "    width: 32px;\n",
              "  }\n",
              "\n",
              "  .colab-df-quickchart:hover {\n",
              "    background-color: var(--hover-bg-color);\n",
              "    box-shadow: 0 1px 2px rgba(60, 64, 67, 0.3), 0 1px 3px 1px rgba(60, 64, 67, 0.15);\n",
              "    fill: var(--button-hover-fill-color);\n",
              "  }\n",
              "\n",
              "  .colab-df-quickchart-complete:disabled,\n",
              "  .colab-df-quickchart-complete:disabled:hover {\n",
              "    background-color: var(--disabled-bg-color);\n",
              "    fill: var(--disabled-fill-color);\n",
              "    box-shadow: none;\n",
              "  }\n",
              "\n",
              "  .colab-df-spinner {\n",
              "    border: 2px solid var(--fill-color);\n",
              "    border-color: transparent;\n",
              "    border-bottom-color: var(--fill-color);\n",
              "    animation:\n",
              "      spin 1s steps(1) infinite;\n",
              "  }\n",
              "\n",
              "  @keyframes spin {\n",
              "    0% {\n",
              "      border-color: transparent;\n",
              "      border-bottom-color: var(--fill-color);\n",
              "      border-left-color: var(--fill-color);\n",
              "    }\n",
              "    20% {\n",
              "      border-color: transparent;\n",
              "      border-left-color: var(--fill-color);\n",
              "      border-top-color: var(--fill-color);\n",
              "    }\n",
              "    30% {\n",
              "      border-color: transparent;\n",
              "      border-left-color: var(--fill-color);\n",
              "      border-top-color: var(--fill-color);\n",
              "      border-right-color: var(--fill-color);\n",
              "    }\n",
              "    40% {\n",
              "      border-color: transparent;\n",
              "      border-right-color: var(--fill-color);\n",
              "      border-top-color: var(--fill-color);\n",
              "    }\n",
              "    60% {\n",
              "      border-color: transparent;\n",
              "      border-right-color: var(--fill-color);\n",
              "    }\n",
              "    80% {\n",
              "      border-color: transparent;\n",
              "      border-right-color: var(--fill-color);\n",
              "      border-bottom-color: var(--fill-color);\n",
              "    }\n",
              "    90% {\n",
              "      border-color: transparent;\n",
              "      border-bottom-color: var(--fill-color);\n",
              "    }\n",
              "  }\n",
              "</style>\n",
              "\n",
              "  <script>\n",
              "    async function quickchart(key) {\n",
              "      const quickchartButtonEl =\n",
              "        document.querySelector('#' + key + ' button');\n",
              "      quickchartButtonEl.disabled = true;  // To prevent multiple clicks.\n",
              "      quickchartButtonEl.classList.add('colab-df-spinner');\n",
              "      try {\n",
              "        const charts = await google.colab.kernel.invokeFunction(\n",
              "            'suggestCharts', [key], {});\n",
              "      } catch (error) {\n",
              "        console.error('Error during call to suggestCharts:', error);\n",
              "      }\n",
              "      quickchartButtonEl.classList.remove('colab-df-spinner');\n",
              "      quickchartButtonEl.classList.add('colab-df-quickchart-complete');\n",
              "    }\n",
              "    (() => {\n",
              "      let quickchartButtonEl =\n",
              "        document.querySelector('#df-7fd023eb-c6d9-4910-ac71-abbea1a7b047 button');\n",
              "      quickchartButtonEl.style.display =\n",
              "        google.colab.kernel.accessAllowed ? 'block' : 'none';\n",
              "    })();\n",
              "  </script>\n",
              "</div>\n",
              "    </div>\n",
              "  </div>\n"
            ]
          },
          "metadata": {},
          "execution_count": 62
        }
      ]
    },
    {
      "cell_type": "markdown",
      "source": [
        "2. **Profitable Vendor**"
      ],
      "metadata": {
        "id": "DAIuTsdhbCc_"
      }
    },
    {
      "cell_type": "code",
      "source": [
        "# Group by vendor and calculate profit for each vendor\n",
        "vendor_profit = df.groupby('Firm bought from')['Total Revenue'].sum() - df.groupby('Firm bought from')['Total Cost'].sum()\n",
        "\n",
        "# Find the vendor with the highest profit\n",
        "most_profitable_vendor = vendor_profit.idxmax()\n",
        "print(\"Most Profitable Vendor: \", most_profitable_vendor)"
      ],
      "metadata": {
        "colab": {
          "base_uri": "https://localhost:8080/"
        },
        "id": "QkhiaMqna5lm",
        "outputId": "fcbd64b0-d0a6-4d7c-8e5a-7638a303aa38"
      },
      "execution_count": 63,
      "outputs": [
        {
          "output_type": "stream",
          "name": "stdout",
          "text": [
            "Most Profitable Vendor:  Vendor4\n"
          ]
        }
      ]
    },
    {
      "cell_type": "markdown",
      "source": [
        "3. **Least Profitable**"
      ],
      "metadata": {
        "id": "_UJ8OGRgbHoB"
      }
    },
    {
      "cell_type": "code",
      "source": [
        "# Group by customer and calculate profit for each customer\n",
        "customer_profit = df.groupby('Customer')['Total Revenue'].sum() - df.groupby('Customer')['Total Cost'].sum()\n",
        "\n",
        "# Find the customer with the lowest profit\n",
        "least_profitable_customer = customer_profit.idxmin()\n",
        "print(\"Least Profitable Customer: \", least_profitable_customer)\n"
      ],
      "metadata": {
        "colab": {
          "base_uri": "https://localhost:8080/"
        },
        "id": "m5RMRqbCbGOX",
        "outputId": "27a195e7-12c6-4486-fa95-86a36cc390c2"
      },
      "execution_count": 65,
      "outputs": [
        {
          "output_type": "stream",
          "name": "stdout",
          "text": [
            "Least Profitable Customer:  Customer3\n"
          ]
        }
      ]
    },
    {
      "cell_type": "markdown",
      "source": [
        "4. **Day of the week that was most profitable for them**"
      ],
      "metadata": {
        "id": "HVHGgC6dbN0_"
      }
    },
    {
      "cell_type": "code",
      "source": [
        "df['Date'].dtype"
      ],
      "metadata": {
        "colab": {
          "base_uri": "https://localhost:8080/"
        },
        "id": "olY4VdkFlXsO",
        "outputId": "c30b8074-42dc-4bc5-f5f2-4d1b3320af20"
      },
      "execution_count": 66,
      "outputs": [
        {
          "output_type": "execute_result",
          "data": {
            "text/plain": [
              "dtype('O')"
            ]
          },
          "metadata": {},
          "execution_count": 66
        }
      ]
    },
    {
      "cell_type": "code",
      "source": [
        "# Convert 'Date' column to datetime\n",
        "df['Date'] = pd.to_datetime(df['Date'], format='%d/%m/%y')"
      ],
      "metadata": {
        "id": "ZOk5zRM1lpiN"
      },
      "execution_count": 67,
      "outputs": []
    },
    {
      "cell_type": "code",
      "source": [
        "df['Date'].dtype"
      ],
      "metadata": {
        "colab": {
          "base_uri": "https://localhost:8080/"
        },
        "id": "vFlUlFK3lvQ_",
        "outputId": "e9865843-8379-47e2-addd-3a798566cf9a"
      },
      "execution_count": 68,
      "outputs": [
        {
          "output_type": "execute_result",
          "data": {
            "text/plain": [
              "dtype('<M8[ns]')"
            ]
          },
          "metadata": {},
          "execution_count": 68
        }
      ]
    },
    {
      "cell_type": "code",
      "source": [
        "# Calculate the day of the week\n",
        "df['Day of Week'] = df['Date'].dt.dayofweek\n",
        "\n",
        "# Group by day of the week and calculate profit for each day\n",
        "day_of_week_profit = df.groupby('Day of Week')['Total Revenue'].sum() - df.groupby('Day of Week')['Total Cost'].sum()\n",
        "\n",
        "# Find the day of the week with the highest profit\n",
        "most_profitable_day = day_of_week_profit.idxmax()\n",
        "print(\"Most Profitable Day of the Week: \", most_profitable_day)\n"
      ],
      "metadata": {
        "colab": {
          "base_uri": "https://localhost:8080/"
        },
        "id": "HqcI7cMlbL6b",
        "outputId": "3273697e-fe42-4976-c890-8c28f5447e23"
      },
      "execution_count": 69,
      "outputs": [
        {
          "output_type": "stream",
          "name": "stdout",
          "text": [
            "Most Profitable Day of the Week:  0\n"
          ]
        }
      ]
    },
    {
      "cell_type": "markdown",
      "source": [
        "5. **Day of the week that was the least profitable for them**"
      ],
      "metadata": {
        "id": "_qxvMRrGb5jx"
      }
    },
    {
      "cell_type": "code",
      "source": [
        "# Find the day of the week with the lowest profit\n",
        "least_profitable_day = day_of_week_profit.idxmin()\n",
        "print(\"Least Profitable Day of the Week: \", least_profitable_day)\n"
      ],
      "metadata": {
        "colab": {
          "base_uri": "https://localhost:8080/"
        },
        "id": "wBRrfP1Nbus-",
        "outputId": "19cb1b55-d836-484a-b54d-0cd2b5f29338"
      },
      "execution_count": 70,
      "outputs": [
        {
          "output_type": "stream",
          "name": "stdout",
          "text": [
            "Least Profitable Day of the Week:  6\n"
          ]
        }
      ]
    },
    {
      "cell_type": "markdown",
      "source": [
        "6. **3-day average of the daily gross profit from the sales_data_2.csv**"
      ],
      "metadata": {
        "id": "l3QJrnFDo1nl"
      }
    },
    {
      "cell_type": "code",
      "source": [
        "df2 = pd.read_csv(\"/content/sales_data_2.csv\")"
      ],
      "metadata": {
        "id": "DztTWYX3vfub"
      },
      "execution_count": 71,
      "outputs": []
    },
    {
      "cell_type": "code",
      "source": [
        "df2['Total Revenue'] = df2['Selling price'] * df2['Quantity sold']\n",
        "df2['Total Cost'] = df2['Buying price'] * df2['Quantity sold']\n",
        "df2['Gross Profit'] = df2['Total Revenue'] - df2['Total Cost']\n",
        "df2['3-Day Avg Gross Profit'] = df2['Gross Profit'].rolling(3).mean()"
      ],
      "metadata": {
        "id": "UGZt6YAEb8Id"
      },
      "execution_count": 72,
      "outputs": []
    },
    {
      "cell_type": "code",
      "source": [
        "df2"
      ],
      "metadata": {
        "colab": {
          "base_uri": "https://localhost:8080/",
          "height": 423
        },
        "id": "IVtEbWiro7n2",
        "outputId": "2dda7911-c4d7-4c00-886b-619239345069"
      },
      "execution_count": 73,
      "outputs": [
        {
          "output_type": "execute_result",
          "data": {
            "text/plain": [
              "          Date Firm bought from  Buying price  Quantity bought   Customer  \\\n",
              "0   2023-08-21          Vendor6         72.11               60  Customer7   \n",
              "1   2023-08-21          Vendor4         75.08               92  Customer7   \n",
              "2   2023-08-21          Vendor7         83.93               16  Customer2   \n",
              "3   2023-08-21          Vendor7         52.01               62  Customer3   \n",
              "4   2023-08-21          Vendor2         98.91                1  Customer5   \n",
              "..         ...              ...           ...              ...        ...   \n",
              "65  2023-08-27          Vendor4         64.82               28  Customer6   \n",
              "66  2023-08-27          Vendor8         88.79               14  Customer3   \n",
              "67  2023-08-27          Vendor5         63.30               81  Customer5   \n",
              "68  2023-08-27          Vendor5         94.06               18  Customer5   \n",
              "69  2023-08-27          Vendor5         56.28               25  Customer6   \n",
              "\n",
              "    Selling price  Quantity sold  Total Revenue  Total Cost  Gross Profit  \\\n",
              "0           91.58             44        4029.52     3172.84        856.68   \n",
              "1           83.71             17        1423.07     1276.36        146.71   \n",
              "2          103.76             15        1556.40     1258.95        297.45   \n",
              "3           64.53              7         451.71      364.07         87.64   \n",
              "4          140.92              1         140.92       98.91         42.01   \n",
              "..            ...            ...            ...         ...           ...   \n",
              "65          87.45             18        1574.10     1166.76        407.34   \n",
              "66         105.59              5         527.95      443.95         84.00   \n",
              "67          92.92             32        2973.44     2025.60        947.84   \n",
              "68         125.67              4         502.68      376.24        126.44   \n",
              "69          82.16              1          82.16       56.28         25.88   \n",
              "\n",
              "    3-Day Avg Gross Profit  \n",
              "0                      NaN  \n",
              "1                      NaN  \n",
              "2               433.613333  \n",
              "3               177.266667  \n",
              "4               142.366667  \n",
              "..                     ...  \n",
              "65              552.863333  \n",
              "66              552.070000  \n",
              "67              479.726667  \n",
              "68              386.093333  \n",
              "69              366.720000  \n",
              "\n",
              "[70 rows x 11 columns]"
            ],
            "text/html": [
              "\n",
              "  <div id=\"df-493dfa96-f51b-48ea-9b65-a2df8b57b18e\" class=\"colab-df-container\">\n",
              "    <div>\n",
              "<style scoped>\n",
              "    .dataframe tbody tr th:only-of-type {\n",
              "        vertical-align: middle;\n",
              "    }\n",
              "\n",
              "    .dataframe tbody tr th {\n",
              "        vertical-align: top;\n",
              "    }\n",
              "\n",
              "    .dataframe thead th {\n",
              "        text-align: right;\n",
              "    }\n",
              "</style>\n",
              "<table border=\"1\" class=\"dataframe\">\n",
              "  <thead>\n",
              "    <tr style=\"text-align: right;\">\n",
              "      <th></th>\n",
              "      <th>Date</th>\n",
              "      <th>Firm bought from</th>\n",
              "      <th>Buying price</th>\n",
              "      <th>Quantity bought</th>\n",
              "      <th>Customer</th>\n",
              "      <th>Selling price</th>\n",
              "      <th>Quantity sold</th>\n",
              "      <th>Total Revenue</th>\n",
              "      <th>Total Cost</th>\n",
              "      <th>Gross Profit</th>\n",
              "      <th>3-Day Avg Gross Profit</th>\n",
              "    </tr>\n",
              "  </thead>\n",
              "  <tbody>\n",
              "    <tr>\n",
              "      <th>0</th>\n",
              "      <td>2023-08-21</td>\n",
              "      <td>Vendor6</td>\n",
              "      <td>72.11</td>\n",
              "      <td>60</td>\n",
              "      <td>Customer7</td>\n",
              "      <td>91.58</td>\n",
              "      <td>44</td>\n",
              "      <td>4029.52</td>\n",
              "      <td>3172.84</td>\n",
              "      <td>856.68</td>\n",
              "      <td>NaN</td>\n",
              "    </tr>\n",
              "    <tr>\n",
              "      <th>1</th>\n",
              "      <td>2023-08-21</td>\n",
              "      <td>Vendor4</td>\n",
              "      <td>75.08</td>\n",
              "      <td>92</td>\n",
              "      <td>Customer7</td>\n",
              "      <td>83.71</td>\n",
              "      <td>17</td>\n",
              "      <td>1423.07</td>\n",
              "      <td>1276.36</td>\n",
              "      <td>146.71</td>\n",
              "      <td>NaN</td>\n",
              "    </tr>\n",
              "    <tr>\n",
              "      <th>2</th>\n",
              "      <td>2023-08-21</td>\n",
              "      <td>Vendor7</td>\n",
              "      <td>83.93</td>\n",
              "      <td>16</td>\n",
              "      <td>Customer2</td>\n",
              "      <td>103.76</td>\n",
              "      <td>15</td>\n",
              "      <td>1556.40</td>\n",
              "      <td>1258.95</td>\n",
              "      <td>297.45</td>\n",
              "      <td>433.613333</td>\n",
              "    </tr>\n",
              "    <tr>\n",
              "      <th>3</th>\n",
              "      <td>2023-08-21</td>\n",
              "      <td>Vendor7</td>\n",
              "      <td>52.01</td>\n",
              "      <td>62</td>\n",
              "      <td>Customer3</td>\n",
              "      <td>64.53</td>\n",
              "      <td>7</td>\n",
              "      <td>451.71</td>\n",
              "      <td>364.07</td>\n",
              "      <td>87.64</td>\n",
              "      <td>177.266667</td>\n",
              "    </tr>\n",
              "    <tr>\n",
              "      <th>4</th>\n",
              "      <td>2023-08-21</td>\n",
              "      <td>Vendor2</td>\n",
              "      <td>98.91</td>\n",
              "      <td>1</td>\n",
              "      <td>Customer5</td>\n",
              "      <td>140.92</td>\n",
              "      <td>1</td>\n",
              "      <td>140.92</td>\n",
              "      <td>98.91</td>\n",
              "      <td>42.01</td>\n",
              "      <td>142.366667</td>\n",
              "    </tr>\n",
              "    <tr>\n",
              "      <th>...</th>\n",
              "      <td>...</td>\n",
              "      <td>...</td>\n",
              "      <td>...</td>\n",
              "      <td>...</td>\n",
              "      <td>...</td>\n",
              "      <td>...</td>\n",
              "      <td>...</td>\n",
              "      <td>...</td>\n",
              "      <td>...</td>\n",
              "      <td>...</td>\n",
              "      <td>...</td>\n",
              "    </tr>\n",
              "    <tr>\n",
              "      <th>65</th>\n",
              "      <td>2023-08-27</td>\n",
              "      <td>Vendor4</td>\n",
              "      <td>64.82</td>\n",
              "      <td>28</td>\n",
              "      <td>Customer6</td>\n",
              "      <td>87.45</td>\n",
              "      <td>18</td>\n",
              "      <td>1574.10</td>\n",
              "      <td>1166.76</td>\n",
              "      <td>407.34</td>\n",
              "      <td>552.863333</td>\n",
              "    </tr>\n",
              "    <tr>\n",
              "      <th>66</th>\n",
              "      <td>2023-08-27</td>\n",
              "      <td>Vendor8</td>\n",
              "      <td>88.79</td>\n",
              "      <td>14</td>\n",
              "      <td>Customer3</td>\n",
              "      <td>105.59</td>\n",
              "      <td>5</td>\n",
              "      <td>527.95</td>\n",
              "      <td>443.95</td>\n",
              "      <td>84.00</td>\n",
              "      <td>552.070000</td>\n",
              "    </tr>\n",
              "    <tr>\n",
              "      <th>67</th>\n",
              "      <td>2023-08-27</td>\n",
              "      <td>Vendor5</td>\n",
              "      <td>63.30</td>\n",
              "      <td>81</td>\n",
              "      <td>Customer5</td>\n",
              "      <td>92.92</td>\n",
              "      <td>32</td>\n",
              "      <td>2973.44</td>\n",
              "      <td>2025.60</td>\n",
              "      <td>947.84</td>\n",
              "      <td>479.726667</td>\n",
              "    </tr>\n",
              "    <tr>\n",
              "      <th>68</th>\n",
              "      <td>2023-08-27</td>\n",
              "      <td>Vendor5</td>\n",
              "      <td>94.06</td>\n",
              "      <td>18</td>\n",
              "      <td>Customer5</td>\n",
              "      <td>125.67</td>\n",
              "      <td>4</td>\n",
              "      <td>502.68</td>\n",
              "      <td>376.24</td>\n",
              "      <td>126.44</td>\n",
              "      <td>386.093333</td>\n",
              "    </tr>\n",
              "    <tr>\n",
              "      <th>69</th>\n",
              "      <td>2023-08-27</td>\n",
              "      <td>Vendor5</td>\n",
              "      <td>56.28</td>\n",
              "      <td>25</td>\n",
              "      <td>Customer6</td>\n",
              "      <td>82.16</td>\n",
              "      <td>1</td>\n",
              "      <td>82.16</td>\n",
              "      <td>56.28</td>\n",
              "      <td>25.88</td>\n",
              "      <td>366.720000</td>\n",
              "    </tr>\n",
              "  </tbody>\n",
              "</table>\n",
              "<p>70 rows × 11 columns</p>\n",
              "</div>\n",
              "    <div class=\"colab-df-buttons\">\n",
              "\n",
              "  <div class=\"colab-df-container\">\n",
              "    <button class=\"colab-df-convert\" onclick=\"convertToInteractive('df-493dfa96-f51b-48ea-9b65-a2df8b57b18e')\"\n",
              "            title=\"Convert this dataframe to an interactive table.\"\n",
              "            style=\"display:none;\">\n",
              "\n",
              "  <svg xmlns=\"http://www.w3.org/2000/svg\" height=\"24px\" viewBox=\"0 -960 960 960\">\n",
              "    <path d=\"M120-120v-720h720v720H120Zm60-500h600v-160H180v160Zm220 220h160v-160H400v160Zm0 220h160v-160H400v160ZM180-400h160v-160H180v160Zm440 0h160v-160H620v160ZM180-180h160v-160H180v160Zm440 0h160v-160H620v160Z\"/>\n",
              "  </svg>\n",
              "    </button>\n",
              "\n",
              "  <style>\n",
              "    .colab-df-container {\n",
              "      display:flex;\n",
              "      gap: 12px;\n",
              "    }\n",
              "\n",
              "    .colab-df-convert {\n",
              "      background-color: #E8F0FE;\n",
              "      border: none;\n",
              "      border-radius: 50%;\n",
              "      cursor: pointer;\n",
              "      display: none;\n",
              "      fill: #1967D2;\n",
              "      height: 32px;\n",
              "      padding: 0 0 0 0;\n",
              "      width: 32px;\n",
              "    }\n",
              "\n",
              "    .colab-df-convert:hover {\n",
              "      background-color: #E2EBFA;\n",
              "      box-shadow: 0px 1px 2px rgba(60, 64, 67, 0.3), 0px 1px 3px 1px rgba(60, 64, 67, 0.15);\n",
              "      fill: #174EA6;\n",
              "    }\n",
              "\n",
              "    .colab-df-buttons div {\n",
              "      margin-bottom: 4px;\n",
              "    }\n",
              "\n",
              "    [theme=dark] .colab-df-convert {\n",
              "      background-color: #3B4455;\n",
              "      fill: #D2E3FC;\n",
              "    }\n",
              "\n",
              "    [theme=dark] .colab-df-convert:hover {\n",
              "      background-color: #434B5C;\n",
              "      box-shadow: 0px 1px 3px 1px rgba(0, 0, 0, 0.15);\n",
              "      filter: drop-shadow(0px 1px 2px rgba(0, 0, 0, 0.3));\n",
              "      fill: #FFFFFF;\n",
              "    }\n",
              "  </style>\n",
              "\n",
              "    <script>\n",
              "      const buttonEl =\n",
              "        document.querySelector('#df-493dfa96-f51b-48ea-9b65-a2df8b57b18e button.colab-df-convert');\n",
              "      buttonEl.style.display =\n",
              "        google.colab.kernel.accessAllowed ? 'block' : 'none';\n",
              "\n",
              "      async function convertToInteractive(key) {\n",
              "        const element = document.querySelector('#df-493dfa96-f51b-48ea-9b65-a2df8b57b18e');\n",
              "        const dataTable =\n",
              "          await google.colab.kernel.invokeFunction('convertToInteractive',\n",
              "                                                    [key], {});\n",
              "        if (!dataTable) return;\n",
              "\n",
              "        const docLinkHtml = 'Like what you see? Visit the ' +\n",
              "          '<a target=\"_blank\" href=https://colab.research.google.com/notebooks/data_table.ipynb>data table notebook</a>'\n",
              "          + ' to learn more about interactive tables.';\n",
              "        element.innerHTML = '';\n",
              "        dataTable['output_type'] = 'display_data';\n",
              "        await google.colab.output.renderOutput(dataTable, element);\n",
              "        const docLink = document.createElement('div');\n",
              "        docLink.innerHTML = docLinkHtml;\n",
              "        element.appendChild(docLink);\n",
              "      }\n",
              "    </script>\n",
              "  </div>\n",
              "\n",
              "\n",
              "<div id=\"df-9e25e90c-8421-41b1-ae27-3c8f00e11ba2\">\n",
              "  <button class=\"colab-df-quickchart\" onclick=\"quickchart('df-9e25e90c-8421-41b1-ae27-3c8f00e11ba2')\"\n",
              "            title=\"Suggest charts.\"\n",
              "            style=\"display:none;\">\n",
              "\n",
              "<svg xmlns=\"http://www.w3.org/2000/svg\" height=\"24px\"viewBox=\"0 0 24 24\"\n",
              "     width=\"24px\">\n",
              "    <g>\n",
              "        <path d=\"M19 3H5c-1.1 0-2 .9-2 2v14c0 1.1.9 2 2 2h14c1.1 0 2-.9 2-2V5c0-1.1-.9-2-2-2zM9 17H7v-7h2v7zm4 0h-2V7h2v10zm4 0h-2v-4h2v4z\"/>\n",
              "    </g>\n",
              "</svg>\n",
              "  </button>\n",
              "\n",
              "<style>\n",
              "  .colab-df-quickchart {\n",
              "      --bg-color: #E8F0FE;\n",
              "      --fill-color: #1967D2;\n",
              "      --hover-bg-color: #E2EBFA;\n",
              "      --hover-fill-color: #174EA6;\n",
              "      --disabled-fill-color: #AAA;\n",
              "      --disabled-bg-color: #DDD;\n",
              "  }\n",
              "\n",
              "  [theme=dark] .colab-df-quickchart {\n",
              "      --bg-color: #3B4455;\n",
              "      --fill-color: #D2E3FC;\n",
              "      --hover-bg-color: #434B5C;\n",
              "      --hover-fill-color: #FFFFFF;\n",
              "      --disabled-bg-color: #3B4455;\n",
              "      --disabled-fill-color: #666;\n",
              "  }\n",
              "\n",
              "  .colab-df-quickchart {\n",
              "    background-color: var(--bg-color);\n",
              "    border: none;\n",
              "    border-radius: 50%;\n",
              "    cursor: pointer;\n",
              "    display: none;\n",
              "    fill: var(--fill-color);\n",
              "    height: 32px;\n",
              "    padding: 0;\n",
              "    width: 32px;\n",
              "  }\n",
              "\n",
              "  .colab-df-quickchart:hover {\n",
              "    background-color: var(--hover-bg-color);\n",
              "    box-shadow: 0 1px 2px rgba(60, 64, 67, 0.3), 0 1px 3px 1px rgba(60, 64, 67, 0.15);\n",
              "    fill: var(--button-hover-fill-color);\n",
              "  }\n",
              "\n",
              "  .colab-df-quickchart-complete:disabled,\n",
              "  .colab-df-quickchart-complete:disabled:hover {\n",
              "    background-color: var(--disabled-bg-color);\n",
              "    fill: var(--disabled-fill-color);\n",
              "    box-shadow: none;\n",
              "  }\n",
              "\n",
              "  .colab-df-spinner {\n",
              "    border: 2px solid var(--fill-color);\n",
              "    border-color: transparent;\n",
              "    border-bottom-color: var(--fill-color);\n",
              "    animation:\n",
              "      spin 1s steps(1) infinite;\n",
              "  }\n",
              "\n",
              "  @keyframes spin {\n",
              "    0% {\n",
              "      border-color: transparent;\n",
              "      border-bottom-color: var(--fill-color);\n",
              "      border-left-color: var(--fill-color);\n",
              "    }\n",
              "    20% {\n",
              "      border-color: transparent;\n",
              "      border-left-color: var(--fill-color);\n",
              "      border-top-color: var(--fill-color);\n",
              "    }\n",
              "    30% {\n",
              "      border-color: transparent;\n",
              "      border-left-color: var(--fill-color);\n",
              "      border-top-color: var(--fill-color);\n",
              "      border-right-color: var(--fill-color);\n",
              "    }\n",
              "    40% {\n",
              "      border-color: transparent;\n",
              "      border-right-color: var(--fill-color);\n",
              "      border-top-color: var(--fill-color);\n",
              "    }\n",
              "    60% {\n",
              "      border-color: transparent;\n",
              "      border-right-color: var(--fill-color);\n",
              "    }\n",
              "    80% {\n",
              "      border-color: transparent;\n",
              "      border-right-color: var(--fill-color);\n",
              "      border-bottom-color: var(--fill-color);\n",
              "    }\n",
              "    90% {\n",
              "      border-color: transparent;\n",
              "      border-bottom-color: var(--fill-color);\n",
              "    }\n",
              "  }\n",
              "</style>\n",
              "\n",
              "  <script>\n",
              "    async function quickchart(key) {\n",
              "      const quickchartButtonEl =\n",
              "        document.querySelector('#' + key + ' button');\n",
              "      quickchartButtonEl.disabled = true;  // To prevent multiple clicks.\n",
              "      quickchartButtonEl.classList.add('colab-df-spinner');\n",
              "      try {\n",
              "        const charts = await google.colab.kernel.invokeFunction(\n",
              "            'suggestCharts', [key], {});\n",
              "      } catch (error) {\n",
              "        console.error('Error during call to suggestCharts:', error);\n",
              "      }\n",
              "      quickchartButtonEl.classList.remove('colab-df-spinner');\n",
              "      quickchartButtonEl.classList.add('colab-df-quickchart-complete');\n",
              "    }\n",
              "    (() => {\n",
              "      let quickchartButtonEl =\n",
              "        document.querySelector('#df-9e25e90c-8421-41b1-ae27-3c8f00e11ba2 button');\n",
              "      quickchartButtonEl.style.display =\n",
              "        google.colab.kernel.accessAllowed ? 'block' : 'none';\n",
              "    })();\n",
              "  </script>\n",
              "</div>\n",
              "    </div>\n",
              "  </div>\n"
            ]
          },
          "metadata": {},
          "execution_count": 73
        }
      ]
    },
    {
      "cell_type": "markdown",
      "source": [
        "7. **The 3-day mean is varying from 18 to 1673 and there are  clear spikes in the variation on 3 day basis**"
      ],
      "metadata": {
        "id": "sLINzXkcqK73"
      }
    },
    {
      "cell_type": "code",
      "source": [
        "df2['3-Day Avg Gross Profit']\n"
      ],
      "metadata": {
        "colab": {
          "base_uri": "https://localhost:8080/"
        },
        "id": "gwX63Cd9yBSh",
        "outputId": "6fc33ffa-16a6-4ff0-f43c-46a1ba2f3379"
      },
      "execution_count": 74,
      "outputs": [
        {
          "output_type": "execute_result",
          "data": {
            "text/plain": [
              "0            NaN\n",
              "1            NaN\n",
              "2     433.613333\n",
              "3     177.266667\n",
              "4     142.366667\n",
              "         ...    \n",
              "65    552.863333\n",
              "66    552.070000\n",
              "67    479.726667\n",
              "68    386.093333\n",
              "69    366.720000\n",
              "Name: 3-Day Avg Gross Profit, Length: 70, dtype: float64"
            ]
          },
          "metadata": {},
          "execution_count": 74
        }
      ]
    },
    {
      "cell_type": "code",
      "source": [
        "df2['3-Day Avg Gross Profit'].min()\n"
      ],
      "metadata": {
        "colab": {
          "base_uri": "https://localhost:8080/"
        },
        "id": "vHX9GPAfo-xt",
        "outputId": "80d2f65e-9a86-4612-a0b0-a550bde04b7a"
      },
      "execution_count": 75,
      "outputs": [
        {
          "output_type": "execute_result",
          "data": {
            "text/plain": [
              "18.25"
            ]
          },
          "metadata": {},
          "execution_count": 75
        }
      ]
    },
    {
      "cell_type": "code",
      "source": [
        "df2['3-Day Avg Gross Profit'].max()"
      ],
      "metadata": {
        "colab": {
          "base_uri": "https://localhost:8080/"
        },
        "id": "LX58JE7vpsX4",
        "outputId": "f65e1b28-e023-4eed-b3c2-05660fa5ab17"
      },
      "execution_count": 76,
      "outputs": [
        {
          "output_type": "execute_result",
          "data": {
            "text/plain": [
              "1673.4699999999996"
            ]
          },
          "metadata": {},
          "execution_count": 76
        }
      ]
    },
    {
      "cell_type": "markdown",
      "source": [
        "**8**"
      ],
      "metadata": {
        "id": "DZ11I8R1rLoa"
      }
    },
    {
      "cell_type": "code",
      "source": [
        "vendor_profit = df2.groupby('Firm bought from')['Gross Profit'].sum()"
      ],
      "metadata": {
        "id": "zhtyuC3Np9LS"
      },
      "execution_count": 47,
      "outputs": []
    },
    {
      "cell_type": "markdown",
      "source": [
        " **8a. The vendor 8  is  having the lowest gross profit compared to other vendors and it will not affect the overall business firing this vendor**"
      ],
      "metadata": {
        "id": "B64R2BbFrjU3"
      }
    },
    {
      "cell_type": "code",
      "source": [
        "vendor_profit"
      ],
      "metadata": {
        "colab": {
          "base_uri": "https://localhost:8080/"
        },
        "id": "SST9xQkErMe2",
        "outputId": "d3664ab0-27e9-4dea-8884-7fe66084b94a"
      },
      "execution_count": 48,
      "outputs": [
        {
          "output_type": "execute_result",
          "data": {
            "text/plain": [
              "Firm bought from\n",
              "Vendor1     1555.59\n",
              "Vendor10    3040.62\n",
              "Vendor2     1296.98\n",
              "Vendor3     6370.67\n",
              "Vendor4     6903.31\n",
              "Vendor5     1616.14\n",
              "Vendor6     1217.95\n",
              "Vendor7     4961.05\n",
              "Vendor8      253.74\n",
              "Vendor9     4266.70\n",
              "Name: Gross Profit, dtype: float64"
            ]
          },
          "metadata": {},
          "execution_count": 48
        }
      ]
    },
    {
      "cell_type": "code",
      "source": [
        "customer_profit = df2.groupby('Customer')['Gross Profit'].sum()"
      ],
      "metadata": {
        "id": "AkeME6lFrPPy"
      },
      "execution_count": 49,
      "outputs": []
    },
    {
      "cell_type": "markdown",
      "source": [
        "**8b. After anlayzing the profit through customers. Letting go of any customer will affect the business because they are all potential customers**"
      ],
      "metadata": {
        "id": "7fClxqmxr4A7"
      }
    },
    {
      "cell_type": "code",
      "source": [
        "customer_profit"
      ],
      "metadata": {
        "colab": {
          "base_uri": "https://localhost:8080/"
        },
        "id": "Y7Q8z5yyrUtF",
        "outputId": "23d768b2-1ec9-496a-abe4-46664d33e7e6"
      },
      "execution_count": 50,
      "outputs": [
        {
          "output_type": "execute_result",
          "data": {
            "text/plain": [
              "Customer\n",
              "Customer1     5310.57\n",
              "Customer10    3692.44\n",
              "Customer2     4215.67\n",
              "Customer3     1055.05\n",
              "Customer4     3337.37\n",
              "Customer5     1315.28\n",
              "Customer6     1930.76\n",
              "Customer7     2197.62\n",
              "Customer8     6498.91\n",
              "Customer9     1929.08\n",
              "Name: Gross Profit, dtype: float64"
            ]
          },
          "metadata": {},
          "execution_count": 50
        }
      ]
    },
    {
      "cell_type": "markdown",
      "source": [
        "9. **The 25th, 50th (median), and 75th percentiles for both buying and selling prices**"
      ],
      "metadata": {
        "id": "nM78qStes0kB"
      }
    },
    {
      "cell_type": "code",
      "source": [
        "percentiles = [25, 50, 75]\n",
        "buying_price_percentiles = df2['Buying price'].quantile([0.25, 0.5, 0.75])\n",
        "selling_price_percentiles = df2['Selling price'].quantile([0.25, 0.5, 0.75])"
      ],
      "metadata": {
        "id": "M6nPNRxNrXKd"
      },
      "execution_count": 51,
      "outputs": []
    },
    {
      "cell_type": "code",
      "source": [
        "buying_price_percentiles"
      ],
      "metadata": {
        "colab": {
          "base_uri": "https://localhost:8080/"
        },
        "id": "24eYGxZOs3Uk",
        "outputId": "7459ff08-d6a2-4817-fbfb-999c340e150e"
      },
      "execution_count": 52,
      "outputs": [
        {
          "output_type": "execute_result",
          "data": {
            "text/plain": [
              "0.25    29.90\n",
              "0.50    60.76\n",
              "0.75    78.32\n",
              "Name: Buying price, dtype: float64"
            ]
          },
          "metadata": {},
          "execution_count": 52
        }
      ]
    },
    {
      "cell_type": "code",
      "source": [
        "selling_price_percentiles"
      ],
      "metadata": {
        "colab": {
          "base_uri": "https://localhost:8080/"
        },
        "id": "GYW5RTAEs85g",
        "outputId": "a3c76a17-ebb1-4262-9b36-2ad226be803e"
      },
      "execution_count": 53,
      "outputs": [
        {
          "output_type": "execute_result",
          "data": {
            "text/plain": [
              "0.25     38.9750\n",
              "0.50     78.9900\n",
              "0.75    103.3975\n",
              "Name: Selling price, dtype: float64"
            ]
          },
          "metadata": {},
          "execution_count": 53
        }
      ]
    },
    {
      "cell_type": "markdown",
      "source": [
        "10"
      ],
      "metadata": {
        "id": "HfsDKdxDtF5O"
      }
    },
    {
      "cell_type": "markdown",
      "source": [
        "**Below 25th Percentile Frequency (18 times): This means that in 18 instances in the dataset, the buying or selling price of Sapota was cheaper compared to most other prices in the data. It suggests that, in those cases, they offered Sapota at a relatively lower price.**\n",
        "\n",
        "**Above 75th Percentile Frequency (21 times): This indicates that in 21 instances in the dataset, the buying or selling price of Sapota was more expensive compared to most other prices in the data. It suggests that, in those cases, they sold Sapota at a relatively higher price.**"
      ],
      "metadata": {
        "id": "ez0POngBtR72"
      }
    },
    {
      "cell_type": "code",
      "source": [
        "below_25th_percentile = (df2['Buying price'] < buying_price_percentiles[0.25]) | (df2['Selling price'] < selling_price_percentiles[0.25])\n",
        "above_75th_percentile = (df2['Buying price'] > buying_price_percentiles[0.75]) | (df2['Selling price'] > selling_price_percentiles[0.75])\n",
        "\n",
        "print(\"Below 25th percentile frequency:\", below_25th_percentile.sum())\n",
        "print(\"Above 75th percentile frequency:\", above_75th_percentile.sum())"
      ],
      "metadata": {
        "colab": {
          "base_uri": "https://localhost:8080/"
        },
        "id": "UFK6ff0ZtB4p",
        "outputId": "4401932a-ab0c-48a0-a0cf-8f8eadee5e1b"
      },
      "execution_count": 54,
      "outputs": [
        {
          "output_type": "stream",
          "name": "stdout",
          "text": [
            "Below 25th percentile frequency: 18\n",
            "Above 75th percentile frequency: 21\n"
          ]
        }
      ]
    },
    {
      "cell_type": "markdown",
      "source": [
        "11"
      ],
      "metadata": {
        "id": "YTXw9JDKuQmn"
      }
    },
    {
      "cell_type": "markdown",
      "source": [
        "**As you can see vendor 4 is having high profit considering other vendors and thats why Bharath is saying to honor vendor 4 and after honoring him the there is a chance in increase of the gross margin and he can be an asset to the business**"
      ],
      "metadata": {
        "id": "a0beXgL9udDG"
      }
    },
    {
      "cell_type": "code",
      "source": [
        "vendor_profit"
      ],
      "metadata": {
        "colab": {
          "base_uri": "https://localhost:8080/"
        },
        "id": "BMgEX7PFtOoK",
        "outputId": "21dc5c0d-ff2a-41c1-aecd-c90c660cc803"
      },
      "execution_count": 40,
      "outputs": [
        {
          "output_type": "execute_result",
          "data": {
            "text/plain": [
              "Firm bought from\n",
              "Vendor1     1555.59\n",
              "Vendor10    3040.62\n",
              "Vendor2     1296.98\n",
              "Vendor3     6370.67\n",
              "Vendor4     6903.31\n",
              "Vendor5     1616.14\n",
              "Vendor6     1217.95\n",
              "Vendor7     4961.05\n",
              "Vendor8      253.74\n",
              "Vendor9     4266.70\n",
              "Name: Gross Profit, dtype: float64"
            ]
          },
          "metadata": {},
          "execution_count": 40
        }
      ]
    },
    {
      "cell_type": "markdown",
      "source": [
        "12. **Max gross margin the firm could have in that branch**"
      ],
      "metadata": {
        "id": "TCAOQTJgwmxS"
      }
    },
    {
      "cell_type": "code",
      "source": [
        "# Find the vendor with the highest total profit\n",
        "strategic_vendor = vendor_profit.idxmax()\n",
        "max_margin = vendor_profit.max()\n",
        "print(\"Vendor with Highest Gross Margin:\", strategic_vendor)\n",
        "print(\"Max Margin of that Vendor: {:.2f}\".format(max_margin))\n"
      ],
      "metadata": {
        "colab": {
          "base_uri": "https://localhost:8080/"
        },
        "id": "adiTDEcxubqu",
        "outputId": "bf5c5404-63d0-448a-82af-47c53476fde3"
      },
      "execution_count": 78,
      "outputs": [
        {
          "output_type": "stream",
          "name": "stdout",
          "text": [
            "Vendor with Highest Gross Margin: Vendor4\n",
            "Max Margin of that Vendor: 6903.31\n"
          ]
        }
      ]
    },
    {
      "cell_type": "markdown",
      "source": [
        "13. **Increaing and decreasing the price by 1 and analyzing the chnages**"
      ],
      "metadata": {
        "id": "7zDmH0AuwuA4"
      }
    },
    {
      "cell_type": "code",
      "source": [
        "# Price Change Increase\n",
        "price_change = 1\n",
        "\n",
        "# Calculate the initial total quantity sold\n",
        "initial_quantity_sold = df2['Quantity sold'].sum()\n",
        "\n",
        "# Calculate the total quantity sold after increasing the price\n",
        "df2['New Selling Price'] = df2['Selling price'] + price_change\n",
        "new_quantity_sold = df2['New Selling Price'] * df2['Quantity sold']\n",
        "new_total_quantity_sold = new_quantity_sold.sum()\n",
        "\n",
        "# Calculate the percentage change in quantity sold\n",
        "percentage_change_quantity_sold = ((new_total_quantity_sold - initial_quantity_sold) / initial_quantity_sold) * 100\n",
        "\n",
        "# Calculate the percentage change in price\n",
        "percentage_change_price = (price_change / df2['Selling price'].mean()) * 100\n",
        "\n",
        "# Calculate price elasticity\n",
        "i_elasticity = percentage_change_quantity_sold / percentage_change_price\n",
        "print(\"Change in price of Sapota for that Branch icreasing by 1: {:.2f}\".format(i_elasticity))\n"
      ],
      "metadata": {
        "colab": {
          "base_uri": "https://localhost:8080/"
        },
        "id": "O3li2B7RwrpN",
        "outputId": "14d90218-7a59-4bd5-af43-65028858ec17"
      },
      "execution_count": 92,
      "outputs": [
        {
          "output_type": "stream",
          "name": "stdout",
          "text": [
            "Change in price of Sapota for that Branch icreasing by 1: 5566.55\n"
          ]
        }
      ]
    },
    {
      "cell_type": "code",
      "source": [
        "# Price Change Increase\n",
        "price_change = 1\n",
        "\n",
        "# Calculate the initial total quantity sold\n",
        "initial_quantity_sold = df2['Quantity sold'].sum()\n",
        "\n",
        "# Calculate the total quantity sold after increasing the price\n",
        "df2['New Selling Price'] = df2['Selling price'] - price_change\n",
        "new_quantity_sold = df2['New Selling Price'] * df2['Quantity sold']\n",
        "new_total_quantity_sold = new_quantity_sold.sum()\n",
        "\n",
        "# Calculate the percentage change in quantity sold\n",
        "percentage_change_quantity_sold = ((new_total_quantity_sold - initial_quantity_sold) / initial_quantity_sold) * 100\n",
        "\n",
        "# Calculate the percentage change in price\n",
        "percentage_change_price = (price_change / df2['Selling price'].mean()) * 100\n",
        "\n",
        "# Calculate price elasticity\n",
        "d_elasticity = percentage_change_quantity_sold / percentage_change_price\n",
        "print(\"Change in price of Sapota for that Branch decreasing by 1: {:.2f}\".format(d_elasticity))\n"
      ],
      "metadata": {
        "colab": {
          "base_uri": "https://localhost:8080/"
        },
        "id": "SnFZLPvcwxOy",
        "outputId": "20744e34-0b93-4c78-d54f-34213106104e"
      },
      "execution_count": 93,
      "outputs": [
        {
          "output_type": "stream",
          "name": "stdout",
          "text": [
            "Change in price of Sapota for that Branch decreasing by 1: 5418.72\n"
          ]
        }
      ]
    },
    {
      "cell_type": "code",
      "source": [
        "Total_change = (i_elasticity - d_elasticity)\n",
        "print(Total_change)"
      ],
      "metadata": {
        "colab": {
          "base_uri": "https://localhost:8080/"
        },
        "id": "D4iMPkba1hDj",
        "outputId": "bb8d81e6-73b3-46ad-8cd0-6e37bf6e4373"
      },
      "execution_count": 94,
      "outputs": [
        {
          "output_type": "stream",
          "name": "stdout",
          "text": [
            "147.8265714285717\n"
          ]
        }
      ]
    },
    {
      "cell_type": "markdown",
      "source": [
        "**Here there is a change of 147 Rs by increasing 1 Rs and decreasing 1 Rs**"
      ],
      "metadata": {
        "id": "YZJnMVWq3cCZ"
      }
    },
    {
      "cell_type": "code",
      "source": [],
      "metadata": {
        "id": "c9073Xwj2wD-"
      },
      "execution_count": null,
      "outputs": []
    }
  ]
}