{
  "nbformat": 4,
  "nbformat_minor": 0,
  "metadata": {
    "colab": {
      "provenance": []
    },
    "kernelspec": {
      "name": "python3",
      "display_name": "Python 3"
    },
    "language_info": {
      "name": "python"
    }
  },
  "cells": [
    {
      "cell_type": "code",
      "source": [
        "import pandas as pd"
      ],
      "metadata": {
        "id": "Vf8-7CEGka-9"
      },
      "execution_count": 96,
      "outputs": []
    },
    {
      "cell_type": "code",
      "source": [
        "df = pd.read_csv('/content/sales_data_1.csv')"
      ],
      "metadata": {
        "id": "-KiaJRtAkeZa"
      },
      "execution_count": 97,
      "outputs": []
    },
    {
      "cell_type": "code",
      "source": [
        "df"
      ],
      "metadata": {
        "colab": {
          "base_uri": "https://localhost:8080/",
          "height": 423
        },
        "id": "yKjjU6BHkhn8",
        "outputId": "081801d5-7022-47e4-af2e-2a59d4861e88"
      },
      "execution_count": 98,
      "outputs": [
        {
          "output_type": "execute_result",
          "data": {
            "text/plain": [
              "        Date Firm bought from  Buying price   Customer  Selling price  \\\n",
              "0   21/08/23          Vendor6         72.11  Customer7          91.58   \n",
              "1   21/08/23          Vendor4         75.08  Customer7          83.71   \n",
              "2   21/08/23          Vendor7         83.93  Customer2         103.76   \n",
              "3   21/08/23          Vendor7         52.01  Customer3          64.53   \n",
              "4   21/08/23          Vendor2         98.91  Customer5         140.92   \n",
              "..       ...              ...           ...        ...            ...   \n",
              "65  27/08/23          Vendor4         64.82  Customer6          87.45   \n",
              "66  27/08/23          Vendor8         88.79  Customer3         105.59   \n",
              "67  27/08/23          Vendor5         63.30  Customer5          92.92   \n",
              "68  27/08/23          Vendor5         94.06  Customer5         125.67   \n",
              "69  27/08/23          Vendor5         56.28  Customer6          82.16   \n",
              "\n",
              "    Quantity sold  \n",
              "0              44  \n",
              "1              17  \n",
              "2              15  \n",
              "3               7  \n",
              "4               1  \n",
              "..            ...  \n",
              "65             18  \n",
              "66              5  \n",
              "67             32  \n",
              "68              4  \n",
              "69              1  \n",
              "\n",
              "[70 rows x 6 columns]"
            ],
            "text/html": [
              "\n",
              "  <div id=\"df-2ceaf824-020b-4524-baf0-f8ce5aa69806\" class=\"colab-df-container\">\n",
              "    <div>\n",
              "<style scoped>\n",
              "    .dataframe tbody tr th:only-of-type {\n",
              "        vertical-align: middle;\n",
              "    }\n",
              "\n",
              "    .dataframe tbody tr th {\n",
              "        vertical-align: top;\n",
              "    }\n",
              "\n",
              "    .dataframe thead th {\n",
              "        text-align: right;\n",
              "    }\n",
              "</style>\n",
              "<table border=\"1\" class=\"dataframe\">\n",
              "  <thead>\n",
              "    <tr style=\"text-align: right;\">\n",
              "      <th></th>\n",
              "      <th>Date</th>\n",
              "      <th>Firm bought from</th>\n",
              "      <th>Buying price</th>\n",
              "      <th>Customer</th>\n",
              "      <th>Selling price</th>\n",
              "      <th>Quantity sold</th>\n",
              "    </tr>\n",
              "  </thead>\n",
              "  <tbody>\n",
              "    <tr>\n",
              "      <th>0</th>\n",
              "      <td>21/08/23</td>\n",
              "      <td>Vendor6</td>\n",
              "      <td>72.11</td>\n",
              "      <td>Customer7</td>\n",
              "      <td>91.58</td>\n",
              "      <td>44</td>\n",
              "    </tr>\n",
              "    <tr>\n",
              "      <th>1</th>\n",
              "      <td>21/08/23</td>\n",
              "      <td>Vendor4</td>\n",
              "      <td>75.08</td>\n",
              "      <td>Customer7</td>\n",
              "      <td>83.71</td>\n",
              "      <td>17</td>\n",
              "    </tr>\n",
              "    <tr>\n",
              "      <th>2</th>\n",
              "      <td>21/08/23</td>\n",
              "      <td>Vendor7</td>\n",
              "      <td>83.93</td>\n",
              "      <td>Customer2</td>\n",
              "      <td>103.76</td>\n",
              "      <td>15</td>\n",
              "    </tr>\n",
              "    <tr>\n",
              "      <th>3</th>\n",
              "      <td>21/08/23</td>\n",
              "      <td>Vendor7</td>\n",
              "      <td>52.01</td>\n",
              "      <td>Customer3</td>\n",
              "      <td>64.53</td>\n",
              "      <td>7</td>\n",
              "    </tr>\n",
              "    <tr>\n",
              "      <th>4</th>\n",
              "      <td>21/08/23</td>\n",
              "      <td>Vendor2</td>\n",
              "      <td>98.91</td>\n",
              "      <td>Customer5</td>\n",
              "      <td>140.92</td>\n",
              "      <td>1</td>\n",
              "    </tr>\n",
              "    <tr>\n",
              "      <th>...</th>\n",
              "      <td>...</td>\n",
              "      <td>...</td>\n",
              "      <td>...</td>\n",
              "      <td>...</td>\n",
              "      <td>...</td>\n",
              "      <td>...</td>\n",
              "    </tr>\n",
              "    <tr>\n",
              "      <th>65</th>\n",
              "      <td>27/08/23</td>\n",
              "      <td>Vendor4</td>\n",
              "      <td>64.82</td>\n",
              "      <td>Customer6</td>\n",
              "      <td>87.45</td>\n",
              "      <td>18</td>\n",
              "    </tr>\n",
              "    <tr>\n",
              "      <th>66</th>\n",
              "      <td>27/08/23</td>\n",
              "      <td>Vendor8</td>\n",
              "      <td>88.79</td>\n",
              "      <td>Customer3</td>\n",
              "      <td>105.59</td>\n",
              "      <td>5</td>\n",
              "    </tr>\n",
              "    <tr>\n",
              "      <th>67</th>\n",
              "      <td>27/08/23</td>\n",
              "      <td>Vendor5</td>\n",
              "      <td>63.30</td>\n",
              "      <td>Customer5</td>\n",
              "      <td>92.92</td>\n",
              "      <td>32</td>\n",
              "    </tr>\n",
              "    <tr>\n",
              "      <th>68</th>\n",
              "      <td>27/08/23</td>\n",
              "      <td>Vendor5</td>\n",
              "      <td>94.06</td>\n",
              "      <td>Customer5</td>\n",
              "      <td>125.67</td>\n",
              "      <td>4</td>\n",
              "    </tr>\n",
              "    <tr>\n",
              "      <th>69</th>\n",
              "      <td>27/08/23</td>\n",
              "      <td>Vendor5</td>\n",
              "      <td>56.28</td>\n",
              "      <td>Customer6</td>\n",
              "      <td>82.16</td>\n",
              "      <td>1</td>\n",
              "    </tr>\n",
              "  </tbody>\n",
              "</table>\n",
              "<p>70 rows × 6 columns</p>\n",
              "</div>\n",
              "    <div class=\"colab-df-buttons\">\n",
              "\n",
              "  <div class=\"colab-df-container\">\n",
              "    <button class=\"colab-df-convert\" onclick=\"convertToInteractive('df-2ceaf824-020b-4524-baf0-f8ce5aa69806')\"\n",
              "            title=\"Convert this dataframe to an interactive table.\"\n",
              "            style=\"display:none;\">\n",
              "\n",
              "  <svg xmlns=\"http://www.w3.org/2000/svg\" height=\"24px\" viewBox=\"0 -960 960 960\">\n",
              "    <path d=\"M120-120v-720h720v720H120Zm60-500h600v-160H180v160Zm220 220h160v-160H400v160Zm0 220h160v-160H400v160ZM180-400h160v-160H180v160Zm440 0h160v-160H620v160ZM180-180h160v-160H180v160Zm440 0h160v-160H620v160Z\"/>\n",
              "  </svg>\n",
              "    </button>\n",
              "\n",
              "  <style>\n",
              "    .colab-df-container {\n",
              "      display:flex;\n",
              "      gap: 12px;\n",
              "    }\n",
              "\n",
              "    .colab-df-convert {\n",
              "      background-color: #E8F0FE;\n",
              "      border: none;\n",
              "      border-radius: 50%;\n",
              "      cursor: pointer;\n",
              "      display: none;\n",
              "      fill: #1967D2;\n",
              "      height: 32px;\n",
              "      padding: 0 0 0 0;\n",
              "      width: 32px;\n",
              "    }\n",
              "\n",
              "    .colab-df-convert:hover {\n",
              "      background-color: #E2EBFA;\n",
              "      box-shadow: 0px 1px 2px rgba(60, 64, 67, 0.3), 0px 1px 3px 1px rgba(60, 64, 67, 0.15);\n",
              "      fill: #174EA6;\n",
              "    }\n",
              "\n",
              "    .colab-df-buttons div {\n",
              "      margin-bottom: 4px;\n",
              "    }\n",
              "\n",
              "    [theme=dark] .colab-df-convert {\n",
              "      background-color: #3B4455;\n",
              "      fill: #D2E3FC;\n",
              "    }\n",
              "\n",
              "    [theme=dark] .colab-df-convert:hover {\n",
              "      background-color: #434B5C;\n",
              "      box-shadow: 0px 1px 3px 1px rgba(0, 0, 0, 0.15);\n",
              "      filter: drop-shadow(0px 1px 2px rgba(0, 0, 0, 0.3));\n",
              "      fill: #FFFFFF;\n",
              "    }\n",
              "  </style>\n",
              "\n",
              "    <script>\n",
              "      const buttonEl =\n",
              "        document.querySelector('#df-2ceaf824-020b-4524-baf0-f8ce5aa69806 button.colab-df-convert');\n",
              "      buttonEl.style.display =\n",
              "        google.colab.kernel.accessAllowed ? 'block' : 'none';\n",
              "\n",
              "      async function convertToInteractive(key) {\n",
              "        const element = document.querySelector('#df-2ceaf824-020b-4524-baf0-f8ce5aa69806');\n",
              "        const dataTable =\n",
              "          await google.colab.kernel.invokeFunction('convertToInteractive',\n",
              "                                                    [key], {});\n",
              "        if (!dataTable) return;\n",
              "\n",
              "        const docLinkHtml = 'Like what you see? Visit the ' +\n",
              "          '<a target=\"_blank\" href=https://colab.research.google.com/notebooks/data_table.ipynb>data table notebook</a>'\n",
              "          + ' to learn more about interactive tables.';\n",
              "        element.innerHTML = '';\n",
              "        dataTable['output_type'] = 'display_data';\n",
              "        await google.colab.output.renderOutput(dataTable, element);\n",
              "        const docLink = document.createElement('div');\n",
              "        docLink.innerHTML = docLinkHtml;\n",
              "        element.appendChild(docLink);\n",
              "      }\n",
              "    </script>\n",
              "  </div>\n",
              "\n",
              "\n",
              "<div id=\"df-57b8c2d8-183a-463b-b984-60cf76c49c0f\">\n",
              "  <button class=\"colab-df-quickchart\" onclick=\"quickchart('df-57b8c2d8-183a-463b-b984-60cf76c49c0f')\"\n",
              "            title=\"Suggest charts.\"\n",
              "            style=\"display:none;\">\n",
              "\n",
              "<svg xmlns=\"http://www.w3.org/2000/svg\" height=\"24px\"viewBox=\"0 0 24 24\"\n",
              "     width=\"24px\">\n",
              "    <g>\n",
              "        <path d=\"M19 3H5c-1.1 0-2 .9-2 2v14c0 1.1.9 2 2 2h14c1.1 0 2-.9 2-2V5c0-1.1-.9-2-2-2zM9 17H7v-7h2v7zm4 0h-2V7h2v10zm4 0h-2v-4h2v4z\"/>\n",
              "    </g>\n",
              "</svg>\n",
              "  </button>\n",
              "\n",
              "<style>\n",
              "  .colab-df-quickchart {\n",
              "      --bg-color: #E8F0FE;\n",
              "      --fill-color: #1967D2;\n",
              "      --hover-bg-color: #E2EBFA;\n",
              "      --hover-fill-color: #174EA6;\n",
              "      --disabled-fill-color: #AAA;\n",
              "      --disabled-bg-color: #DDD;\n",
              "  }\n",
              "\n",
              "  [theme=dark] .colab-df-quickchart {\n",
              "      --bg-color: #3B4455;\n",
              "      --fill-color: #D2E3FC;\n",
              "      --hover-bg-color: #434B5C;\n",
              "      --hover-fill-color: #FFFFFF;\n",
              "      --disabled-bg-color: #3B4455;\n",
              "      --disabled-fill-color: #666;\n",
              "  }\n",
              "\n",
              "  .colab-df-quickchart {\n",
              "    background-color: var(--bg-color);\n",
              "    border: none;\n",
              "    border-radius: 50%;\n",
              "    cursor: pointer;\n",
              "    display: none;\n",
              "    fill: var(--fill-color);\n",
              "    height: 32px;\n",
              "    padding: 0;\n",
              "    width: 32px;\n",
              "  }\n",
              "\n",
              "  .colab-df-quickchart:hover {\n",
              "    background-color: var(--hover-bg-color);\n",
              "    box-shadow: 0 1px 2px rgba(60, 64, 67, 0.3), 0 1px 3px 1px rgba(60, 64, 67, 0.15);\n",
              "    fill: var(--button-hover-fill-color);\n",
              "  }\n",
              "\n",
              "  .colab-df-quickchart-complete:disabled,\n",
              "  .colab-df-quickchart-complete:disabled:hover {\n",
              "    background-color: var(--disabled-bg-color);\n",
              "    fill: var(--disabled-fill-color);\n",
              "    box-shadow: none;\n",
              "  }\n",
              "\n",
              "  .colab-df-spinner {\n",
              "    border: 2px solid var(--fill-color);\n",
              "    border-color: transparent;\n",
              "    border-bottom-color: var(--fill-color);\n",
              "    animation:\n",
              "      spin 1s steps(1) infinite;\n",
              "  }\n",
              "\n",
              "  @keyframes spin {\n",
              "    0% {\n",
              "      border-color: transparent;\n",
              "      border-bottom-color: var(--fill-color);\n",
              "      border-left-color: var(--fill-color);\n",
              "    }\n",
              "    20% {\n",
              "      border-color: transparent;\n",
              "      border-left-color: var(--fill-color);\n",
              "      border-top-color: var(--fill-color);\n",
              "    }\n",
              "    30% {\n",
              "      border-color: transparent;\n",
              "      border-left-color: var(--fill-color);\n",
              "      border-top-color: var(--fill-color);\n",
              "      border-right-color: var(--fill-color);\n",
              "    }\n",
              "    40% {\n",
              "      border-color: transparent;\n",
              "      border-right-color: var(--fill-color);\n",
              "      border-top-color: var(--fill-color);\n",
              "    }\n",
              "    60% {\n",
              "      border-color: transparent;\n",
              "      border-right-color: var(--fill-color);\n",
              "    }\n",
              "    80% {\n",
              "      border-color: transparent;\n",
              "      border-right-color: var(--fill-color);\n",
              "      border-bottom-color: var(--fill-color);\n",
              "    }\n",
              "    90% {\n",
              "      border-color: transparent;\n",
              "      border-bottom-color: var(--fill-color);\n",
              "    }\n",
              "  }\n",
              "</style>\n",
              "\n",
              "  <script>\n",
              "    async function quickchart(key) {\n",
              "      const quickchartButtonEl =\n",
              "        document.querySelector('#' + key + ' button');\n",
              "      quickchartButtonEl.disabled = true;  // To prevent multiple clicks.\n",
              "      quickchartButtonEl.classList.add('colab-df-spinner');\n",
              "      try {\n",
              "        const charts = await google.colab.kernel.invokeFunction(\n",
              "            'suggestCharts', [key], {});\n",
              "      } catch (error) {\n",
              "        console.error('Error during call to suggestCharts:', error);\n",
              "      }\n",
              "      quickchartButtonEl.classList.remove('colab-df-spinner');\n",
              "      quickchartButtonEl.classList.add('colab-df-quickchart-complete');\n",
              "    }\n",
              "    (() => {\n",
              "      let quickchartButtonEl =\n",
              "        document.querySelector('#df-57b8c2d8-183a-463b-b984-60cf76c49c0f button');\n",
              "      quickchartButtonEl.style.display =\n",
              "        google.colab.kernel.accessAllowed ? 'block' : 'none';\n",
              "    })();\n",
              "  </script>\n",
              "</div>\n",
              "    </div>\n",
              "  </div>\n"
            ]
          },
          "metadata": {},
          "execution_count": 98
        }
      ]
    },
    {
      "cell_type": "markdown",
      "source": [
        "1.**Overall gross margin for their business**"
      ],
      "metadata": {
        "id": "84cELbw4a9tC"
      }
    },
    {
      "cell_type": "code",
      "execution_count": 99,
      "metadata": {
        "colab": {
          "base_uri": "https://localhost:8080/"
        },
        "id": "ezkjzjQEX3dN",
        "outputId": "d249e5ca-cad0-4f77-9d31-18b4eb1c3e97"
      },
      "outputs": [
        {
          "output_type": "stream",
          "name": "stdout",
          "text": [
            "Overall Gross Margin: 31482.75\n"
          ]
        }
      ],
      "source": [
        "# Total Revenue\n",
        "df['Total Revenue'] = df['Selling price'] * df['Quantity sold']\n",
        "\n",
        "# Total Cost\n",
        "df['Total Cost'] = df['Buying price'] * df['Quantity sold']\n",
        "\n",
        "# Gross Margin\n",
        "gross_margin = df['Total Revenue'].sum() - df['Total Cost'].sum()\n",
        "print(\"Overall Gross Margin: {:.2f}\".format(gross_margin))\n"
      ]
    },
    {
      "cell_type": "code",
      "source": [
        "df"
      ],
      "metadata": {
        "colab": {
          "base_uri": "https://localhost:8080/",
          "height": 423
        },
        "id": "1OtICOYGkyA6",
        "outputId": "4b279cbc-ecf1-47ea-ded6-c98e6c539808"
      },
      "execution_count": 100,
      "outputs": [
        {
          "output_type": "execute_result",
          "data": {
            "text/plain": [
              "        Date Firm bought from  Buying price   Customer  Selling price  \\\n",
              "0   21/08/23          Vendor6         72.11  Customer7          91.58   \n",
              "1   21/08/23          Vendor4         75.08  Customer7          83.71   \n",
              "2   21/08/23          Vendor7         83.93  Customer2         103.76   \n",
              "3   21/08/23          Vendor7         52.01  Customer3          64.53   \n",
              "4   21/08/23          Vendor2         98.91  Customer5         140.92   \n",
              "..       ...              ...           ...        ...            ...   \n",
              "65  27/08/23          Vendor4         64.82  Customer6          87.45   \n",
              "66  27/08/23          Vendor8         88.79  Customer3         105.59   \n",
              "67  27/08/23          Vendor5         63.30  Customer5          92.92   \n",
              "68  27/08/23          Vendor5         94.06  Customer5         125.67   \n",
              "69  27/08/23          Vendor5         56.28  Customer6          82.16   \n",
              "\n",
              "    Quantity sold  Total Revenue  Total Cost  \n",
              "0              44        4029.52     3172.84  \n",
              "1              17        1423.07     1276.36  \n",
              "2              15        1556.40     1258.95  \n",
              "3               7         451.71      364.07  \n",
              "4               1         140.92       98.91  \n",
              "..            ...            ...         ...  \n",
              "65             18        1574.10     1166.76  \n",
              "66              5         527.95      443.95  \n",
              "67             32        2973.44     2025.60  \n",
              "68              4         502.68      376.24  \n",
              "69              1          82.16       56.28  \n",
              "\n",
              "[70 rows x 8 columns]"
            ],
            "text/html": [
              "\n",
              "  <div id=\"df-ce494577-dd84-4a80-a269-9631cc66363d\" class=\"colab-df-container\">\n",
              "    <div>\n",
              "<style scoped>\n",
              "    .dataframe tbody tr th:only-of-type {\n",
              "        vertical-align: middle;\n",
              "    }\n",
              "\n",
              "    .dataframe tbody tr th {\n",
              "        vertical-align: top;\n",
              "    }\n",
              "\n",
              "    .dataframe thead th {\n",
              "        text-align: right;\n",
              "    }\n",
              "</style>\n",
              "<table border=\"1\" class=\"dataframe\">\n",
              "  <thead>\n",
              "    <tr style=\"text-align: right;\">\n",
              "      <th></th>\n",
              "      <th>Date</th>\n",
              "      <th>Firm bought from</th>\n",
              "      <th>Buying price</th>\n",
              "      <th>Customer</th>\n",
              "      <th>Selling price</th>\n",
              "      <th>Quantity sold</th>\n",
              "      <th>Total Revenue</th>\n",
              "      <th>Total Cost</th>\n",
              "    </tr>\n",
              "  </thead>\n",
              "  <tbody>\n",
              "    <tr>\n",
              "      <th>0</th>\n",
              "      <td>21/08/23</td>\n",
              "      <td>Vendor6</td>\n",
              "      <td>72.11</td>\n",
              "      <td>Customer7</td>\n",
              "      <td>91.58</td>\n",
              "      <td>44</td>\n",
              "      <td>4029.52</td>\n",
              "      <td>3172.84</td>\n",
              "    </tr>\n",
              "    <tr>\n",
              "      <th>1</th>\n",
              "      <td>21/08/23</td>\n",
              "      <td>Vendor4</td>\n",
              "      <td>75.08</td>\n",
              "      <td>Customer7</td>\n",
              "      <td>83.71</td>\n",
              "      <td>17</td>\n",
              "      <td>1423.07</td>\n",
              "      <td>1276.36</td>\n",
              "    </tr>\n",
              "    <tr>\n",
              "      <th>2</th>\n",
              "      <td>21/08/23</td>\n",
              "      <td>Vendor7</td>\n",
              "      <td>83.93</td>\n",
              "      <td>Customer2</td>\n",
              "      <td>103.76</td>\n",
              "      <td>15</td>\n",
              "      <td>1556.40</td>\n",
              "      <td>1258.95</td>\n",
              "    </tr>\n",
              "    <tr>\n",
              "      <th>3</th>\n",
              "      <td>21/08/23</td>\n",
              "      <td>Vendor7</td>\n",
              "      <td>52.01</td>\n",
              "      <td>Customer3</td>\n",
              "      <td>64.53</td>\n",
              "      <td>7</td>\n",
              "      <td>451.71</td>\n",
              "      <td>364.07</td>\n",
              "    </tr>\n",
              "    <tr>\n",
              "      <th>4</th>\n",
              "      <td>21/08/23</td>\n",
              "      <td>Vendor2</td>\n",
              "      <td>98.91</td>\n",
              "      <td>Customer5</td>\n",
              "      <td>140.92</td>\n",
              "      <td>1</td>\n",
              "      <td>140.92</td>\n",
              "      <td>98.91</td>\n",
              "    </tr>\n",
              "    <tr>\n",
              "      <th>...</th>\n",
              "      <td>...</td>\n",
              "      <td>...</td>\n",
              "      <td>...</td>\n",
              "      <td>...</td>\n",
              "      <td>...</td>\n",
              "      <td>...</td>\n",
              "      <td>...</td>\n",
              "      <td>...</td>\n",
              "    </tr>\n",
              "    <tr>\n",
              "      <th>65</th>\n",
              "      <td>27/08/23</td>\n",
              "      <td>Vendor4</td>\n",
              "      <td>64.82</td>\n",
              "      <td>Customer6</td>\n",
              "      <td>87.45</td>\n",
              "      <td>18</td>\n",
              "      <td>1574.10</td>\n",
              "      <td>1166.76</td>\n",
              "    </tr>\n",
              "    <tr>\n",
              "      <th>66</th>\n",
              "      <td>27/08/23</td>\n",
              "      <td>Vendor8</td>\n",
              "      <td>88.79</td>\n",
              "      <td>Customer3</td>\n",
              "      <td>105.59</td>\n",
              "      <td>5</td>\n",
              "      <td>527.95</td>\n",
              "      <td>443.95</td>\n",
              "    </tr>\n",
              "    <tr>\n",
              "      <th>67</th>\n",
              "      <td>27/08/23</td>\n",
              "      <td>Vendor5</td>\n",
              "      <td>63.30</td>\n",
              "      <td>Customer5</td>\n",
              "      <td>92.92</td>\n",
              "      <td>32</td>\n",
              "      <td>2973.44</td>\n",
              "      <td>2025.60</td>\n",
              "    </tr>\n",
              "    <tr>\n",
              "      <th>68</th>\n",
              "      <td>27/08/23</td>\n",
              "      <td>Vendor5</td>\n",
              "      <td>94.06</td>\n",
              "      <td>Customer5</td>\n",
              "      <td>125.67</td>\n",
              "      <td>4</td>\n",
              "      <td>502.68</td>\n",
              "      <td>376.24</td>\n",
              "    </tr>\n",
              "    <tr>\n",
              "      <th>69</th>\n",
              "      <td>27/08/23</td>\n",
              "      <td>Vendor5</td>\n",
              "      <td>56.28</td>\n",
              "      <td>Customer6</td>\n",
              "      <td>82.16</td>\n",
              "      <td>1</td>\n",
              "      <td>82.16</td>\n",
              "      <td>56.28</td>\n",
              "    </tr>\n",
              "  </tbody>\n",
              "</table>\n",
              "<p>70 rows × 8 columns</p>\n",
              "</div>\n",
              "    <div class=\"colab-df-buttons\">\n",
              "\n",
              "  <div class=\"colab-df-container\">\n",
              "    <button class=\"colab-df-convert\" onclick=\"convertToInteractive('df-ce494577-dd84-4a80-a269-9631cc66363d')\"\n",
              "            title=\"Convert this dataframe to an interactive table.\"\n",
              "            style=\"display:none;\">\n",
              "\n",
              "  <svg xmlns=\"http://www.w3.org/2000/svg\" height=\"24px\" viewBox=\"0 -960 960 960\">\n",
              "    <path d=\"M120-120v-720h720v720H120Zm60-500h600v-160H180v160Zm220 220h160v-160H400v160Zm0 220h160v-160H400v160ZM180-400h160v-160H180v160Zm440 0h160v-160H620v160ZM180-180h160v-160H180v160Zm440 0h160v-160H620v160Z\"/>\n",
              "  </svg>\n",
              "    </button>\n",
              "\n",
              "  <style>\n",
              "    .colab-df-container {\n",
              "      display:flex;\n",
              "      gap: 12px;\n",
              "    }\n",
              "\n",
              "    .colab-df-convert {\n",
              "      background-color: #E8F0FE;\n",
              "      border: none;\n",
              "      border-radius: 50%;\n",
              "      cursor: pointer;\n",
              "      display: none;\n",
              "      fill: #1967D2;\n",
              "      height: 32px;\n",
              "      padding: 0 0 0 0;\n",
              "      width: 32px;\n",
              "    }\n",
              "\n",
              "    .colab-df-convert:hover {\n",
              "      background-color: #E2EBFA;\n",
              "      box-shadow: 0px 1px 2px rgba(60, 64, 67, 0.3), 0px 1px 3px 1px rgba(60, 64, 67, 0.15);\n",
              "      fill: #174EA6;\n",
              "    }\n",
              "\n",
              "    .colab-df-buttons div {\n",
              "      margin-bottom: 4px;\n",
              "    }\n",
              "\n",
              "    [theme=dark] .colab-df-convert {\n",
              "      background-color: #3B4455;\n",
              "      fill: #D2E3FC;\n",
              "    }\n",
              "\n",
              "    [theme=dark] .colab-df-convert:hover {\n",
              "      background-color: #434B5C;\n",
              "      box-shadow: 0px 1px 3px 1px rgba(0, 0, 0, 0.15);\n",
              "      filter: drop-shadow(0px 1px 2px rgba(0, 0, 0, 0.3));\n",
              "      fill: #FFFFFF;\n",
              "    }\n",
              "  </style>\n",
              "\n",
              "    <script>\n",
              "      const buttonEl =\n",
              "        document.querySelector('#df-ce494577-dd84-4a80-a269-9631cc66363d button.colab-df-convert');\n",
              "      buttonEl.style.display =\n",
              "        google.colab.kernel.accessAllowed ? 'block' : 'none';\n",
              "\n",
              "      async function convertToInteractive(key) {\n",
              "        const element = document.querySelector('#df-ce494577-dd84-4a80-a269-9631cc66363d');\n",
              "        const dataTable =\n",
              "          await google.colab.kernel.invokeFunction('convertToInteractive',\n",
              "                                                    [key], {});\n",
              "        if (!dataTable) return;\n",
              "\n",
              "        const docLinkHtml = 'Like what you see? Visit the ' +\n",
              "          '<a target=\"_blank\" href=https://colab.research.google.com/notebooks/data_table.ipynb>data table notebook</a>'\n",
              "          + ' to learn more about interactive tables.';\n",
              "        element.innerHTML = '';\n",
              "        dataTable['output_type'] = 'display_data';\n",
              "        await google.colab.output.renderOutput(dataTable, element);\n",
              "        const docLink = document.createElement('div');\n",
              "        docLink.innerHTML = docLinkHtml;\n",
              "        element.appendChild(docLink);\n",
              "      }\n",
              "    </script>\n",
              "  </div>\n",
              "\n",
              "\n",
              "<div id=\"df-c65e9f63-2c36-41da-b1c8-906cca80dea1\">\n",
              "  <button class=\"colab-df-quickchart\" onclick=\"quickchart('df-c65e9f63-2c36-41da-b1c8-906cca80dea1')\"\n",
              "            title=\"Suggest charts.\"\n",
              "            style=\"display:none;\">\n",
              "\n",
              "<svg xmlns=\"http://www.w3.org/2000/svg\" height=\"24px\"viewBox=\"0 0 24 24\"\n",
              "     width=\"24px\">\n",
              "    <g>\n",
              "        <path d=\"M19 3H5c-1.1 0-2 .9-2 2v14c0 1.1.9 2 2 2h14c1.1 0 2-.9 2-2V5c0-1.1-.9-2-2-2zM9 17H7v-7h2v7zm4 0h-2V7h2v10zm4 0h-2v-4h2v4z\"/>\n",
              "    </g>\n",
              "</svg>\n",
              "  </button>\n",
              "\n",
              "<style>\n",
              "  .colab-df-quickchart {\n",
              "      --bg-color: #E8F0FE;\n",
              "      --fill-color: #1967D2;\n",
              "      --hover-bg-color: #E2EBFA;\n",
              "      --hover-fill-color: #174EA6;\n",
              "      --disabled-fill-color: #AAA;\n",
              "      --disabled-bg-color: #DDD;\n",
              "  }\n",
              "\n",
              "  [theme=dark] .colab-df-quickchart {\n",
              "      --bg-color: #3B4455;\n",
              "      --fill-color: #D2E3FC;\n",
              "      --hover-bg-color: #434B5C;\n",
              "      --hover-fill-color: #FFFFFF;\n",
              "      --disabled-bg-color: #3B4455;\n",
              "      --disabled-fill-color: #666;\n",
              "  }\n",
              "\n",
              "  .colab-df-quickchart {\n",
              "    background-color: var(--bg-color);\n",
              "    border: none;\n",
              "    border-radius: 50%;\n",
              "    cursor: pointer;\n",
              "    display: none;\n",
              "    fill: var(--fill-color);\n",
              "    height: 32px;\n",
              "    padding: 0;\n",
              "    width: 32px;\n",
              "  }\n",
              "\n",
              "  .colab-df-quickchart:hover {\n",
              "    background-color: var(--hover-bg-color);\n",
              "    box-shadow: 0 1px 2px rgba(60, 64, 67, 0.3), 0 1px 3px 1px rgba(60, 64, 67, 0.15);\n",
              "    fill: var(--button-hover-fill-color);\n",
              "  }\n",
              "\n",
              "  .colab-df-quickchart-complete:disabled,\n",
              "  .colab-df-quickchart-complete:disabled:hover {\n",
              "    background-color: var(--disabled-bg-color);\n",
              "    fill: var(--disabled-fill-color);\n",
              "    box-shadow: none;\n",
              "  }\n",
              "\n",
              "  .colab-df-spinner {\n",
              "    border: 2px solid var(--fill-color);\n",
              "    border-color: transparent;\n",
              "    border-bottom-color: var(--fill-color);\n",
              "    animation:\n",
              "      spin 1s steps(1) infinite;\n",
              "  }\n",
              "\n",
              "  @keyframes spin {\n",
              "    0% {\n",
              "      border-color: transparent;\n",
              "      border-bottom-color: var(--fill-color);\n",
              "      border-left-color: var(--fill-color);\n",
              "    }\n",
              "    20% {\n",
              "      border-color: transparent;\n",
              "      border-left-color: var(--fill-color);\n",
              "      border-top-color: var(--fill-color);\n",
              "    }\n",
              "    30% {\n",
              "      border-color: transparent;\n",
              "      border-left-color: var(--fill-color);\n",
              "      border-top-color: var(--fill-color);\n",
              "      border-right-color: var(--fill-color);\n",
              "    }\n",
              "    40% {\n",
              "      border-color: transparent;\n",
              "      border-right-color: var(--fill-color);\n",
              "      border-top-color: var(--fill-color);\n",
              "    }\n",
              "    60% {\n",
              "      border-color: transparent;\n",
              "      border-right-color: var(--fill-color);\n",
              "    }\n",
              "    80% {\n",
              "      border-color: transparent;\n",
              "      border-right-color: var(--fill-color);\n",
              "      border-bottom-color: var(--fill-color);\n",
              "    }\n",
              "    90% {\n",
              "      border-color: transparent;\n",
              "      border-bottom-color: var(--fill-color);\n",
              "    }\n",
              "  }\n",
              "</style>\n",
              "\n",
              "  <script>\n",
              "    async function quickchart(key) {\n",
              "      const quickchartButtonEl =\n",
              "        document.querySelector('#' + key + ' button');\n",
              "      quickchartButtonEl.disabled = true;  // To prevent multiple clicks.\n",
              "      quickchartButtonEl.classList.add('colab-df-spinner');\n",
              "      try {\n",
              "        const charts = await google.colab.kernel.invokeFunction(\n",
              "            'suggestCharts', [key], {});\n",
              "      } catch (error) {\n",
              "        console.error('Error during call to suggestCharts:', error);\n",
              "      }\n",
              "      quickchartButtonEl.classList.remove('colab-df-spinner');\n",
              "      quickchartButtonEl.classList.add('colab-df-quickchart-complete');\n",
              "    }\n",
              "    (() => {\n",
              "      let quickchartButtonEl =\n",
              "        document.querySelector('#df-c65e9f63-2c36-41da-b1c8-906cca80dea1 button');\n",
              "      quickchartButtonEl.style.display =\n",
              "        google.colab.kernel.accessAllowed ? 'block' : 'none';\n",
              "    })();\n",
              "  </script>\n",
              "</div>\n",
              "    </div>\n",
              "  </div>\n"
            ]
          },
          "metadata": {},
          "execution_count": 100
        }
      ]
    },
    {
      "cell_type": "markdown",
      "source": [
        "2. **Profitable Vendor**"
      ],
      "metadata": {
        "id": "DAIuTsdhbCc_"
      }
    },
    {
      "cell_type": "code",
      "source": [
        "# Group by vendor and calculate profit for each vendor\n",
        "vendor_profit = df.groupby('Firm bought from')['Total Revenue'].sum() - df.groupby('Firm bought from')['Total Cost'].sum()\n",
        "\n",
        "# Find the vendor with the highest profit\n",
        "most_profitable_vendor = vendor_profit.idxmax()\n",
        "print(\"Most Profitable Vendor: \", most_profitable_vendor)"
      ],
      "metadata": {
        "colab": {
          "base_uri": "https://localhost:8080/"
        },
        "id": "QkhiaMqna5lm",
        "outputId": "b56ea3f6-ad7f-46ca-b265-48cfdfb520eb"
      },
      "execution_count": 101,
      "outputs": [
        {
          "output_type": "stream",
          "name": "stdout",
          "text": [
            "Most Profitable Vendor:  Vendor4\n"
          ]
        }
      ]
    },
    {
      "cell_type": "code",
      "source": [
        "import matplotlib.pyplot as plt\n",
        "# Plot the profit of each vendor\n",
        "plt.figure(figsize=(10, 6))\n",
        "vendor_profit.plot(kind='bar', color='g')\n",
        "plt.xlabel('Vendor')\n",
        "plt.ylabel('Total Profit')\n",
        "plt.title('Profit by Vendor')\n",
        "plt.show()"
      ],
      "metadata": {
        "colab": {
          "base_uri": "https://localhost:8080/",
          "height": 616
        },
        "id": "683D1NBHAIDQ",
        "outputId": "9330a93b-c516-4110-9291-500069dfc7b7"
      },
      "execution_count": 133,
      "outputs": [
        {
          "output_type": "display_data",
          "data": {
            "text/plain": [
              "<Figure size 1000x600 with 1 Axes>"
            ],
            "image/png": "[encoded data removed]"
          },
          "metadata": {}
        }
      ]
    },
    {
      "cell_type": "markdown",
      "source": [
        "3. **Least Profitable**"
      ],
      "metadata": {
        "id": "_UJ8OGRgbHoB"
      }
    },
    {
      "cell_type": "code",
      "source": [
        "# Group by customer and calculate profit for each customer\n",
        "customer_profit = df.groupby('Customer')['Total Revenue'].sum() - df.groupby('Customer')['Total Cost'].sum()\n",
        "\n",
        "# Find the customer with the lowest profit\n",
        "least_profitable_customer = customer_profit.idxmin()\n",
        "print(\"Least Profitable Customer: \", least_profitable_customer)\n"
      ],
      "metadata": {
        "colab": {
          "base_uri": "https://localhost:8080/"
        },
        "id": "m5RMRqbCbGOX",
        "outputId": "90bd2e11-931e-492c-dbee-3e04990314ea"
      },
      "execution_count": 102,
      "outputs": [
        {
          "output_type": "stream",
          "name": "stdout",
          "text": [
            "Least Profitable Customer:  Customer3\n"
          ]
        }
      ]
    },
    {
      "cell_type": "markdown",
      "source": [
        "4. **Day of the week that was most profitable for them**"
      ],
      "metadata": {
        "id": "HVHGgC6dbN0_"
      }
    },
    {
      "cell_type": "code",
      "source": [
        "df['Date'].dtype"
      ],
      "metadata": {
        "colab": {
          "base_uri": "https://localhost:8080/"
        },
        "id": "olY4VdkFlXsO",
        "outputId": "4233985d-4e3c-4ea1-af2c-d776d61717de"
      },
      "execution_count": 103,
      "outputs": [
        {
          "output_type": "execute_result",
          "data": {
            "text/plain": [
              "dtype('O')"
            ]
          },
          "metadata": {},
          "execution_count": 103
        }
      ]
    },
    {
      "cell_type": "code",
      "source": [
        "# Convert 'Date' column to datetime\n",
        "df['Date'] = pd.to_datetime(df['Date'], format='%d/%m/%y')"
      ],
      "metadata": {
        "id": "ZOk5zRM1lpiN"
      },
      "execution_count": 104,
      "outputs": []
    },
    {
      "cell_type": "code",
      "source": [
        "df['Date'].dtype"
      ],
      "metadata": {
        "colab": {
          "base_uri": "https://localhost:8080/"
        },
        "id": "vFlUlFK3lvQ_",
        "outputId": "59553a8a-11e4-4c4a-95aa-662cac0495a5"
      },
      "execution_count": 105,
      "outputs": [
        {
          "output_type": "execute_result",
          "data": {
            "text/plain": [
              "dtype('<M8[ns]')"
            ]
          },
          "metadata": {},
          "execution_count": 105
        }
      ]
    },
    {
      "cell_type": "code",
      "source": [
        "# Calculate the day of the week\n",
        "df['Day of Week'] = df['Date'].dt.dayofweek\n",
        "\n",
        "# Group by day of the week and calculate profit for each day\n",
        "day_of_week_profit = df.groupby('Day of Week')['Total Revenue'].sum() - df.groupby('Day of Week')['Total Cost'].sum()\n",
        "\n",
        "# Find the day of the week with the highest profit\n",
        "most_profitable_day = day_of_week_profit.idxmax()\n",
        "print(\"Most Profitable Day of the Week: \", most_profitable_day)\n"
      ],
      "metadata": {
        "colab": {
          "base_uri": "https://localhost:8080/"
        },
        "id": "HqcI7cMlbL6b",
        "outputId": "e6e4b5d1-4801-418d-a1fb-44298821be8c"
      },
      "execution_count": 106,
      "outputs": [
        {
          "output_type": "stream",
          "name": "stdout",
          "text": [
            "Most Profitable Day of the Week:  0\n"
          ]
        }
      ]
    },
    {
      "cell_type": "markdown",
      "source": [
        "**Monday is having the most profitble day of the week**"
      ],
      "metadata": {
        "id": "iugeFnuZ8nCc"
      }
    },
    {
      "cell_type": "markdown",
      "source": [
        "5. **Day of the week that was the least profitable for them**"
      ],
      "metadata": {
        "id": "_qxvMRrGb5jx"
      }
    },
    {
      "cell_type": "code",
      "source": [
        "# Find the day of the week with the lowest profit\n",
        "least_profitable_day = day_of_week_profit.idxmin()\n",
        "print(\"Least Profitable Day of the Week: \", least_profitable_day)\n"
      ],
      "metadata": {
        "colab": {
          "base_uri": "https://localhost:8080/"
        },
        "id": "wBRrfP1Nbus-",
        "outputId": "9fc65c5f-b9bc-4cfc-a032-bb81445c6602"
      },
      "execution_count": 107,
      "outputs": [
        {
          "output_type": "stream",
          "name": "stdout",
          "text": [
            "Least Profitable Day of the Week:  6\n"
          ]
        }
      ]
    },
    {
      "cell_type": "markdown",
      "source": [
        "**Sunday is the least profitable day of the week**"
      ],
      "metadata": {
        "id": "KCOJ0sHZ8x2I"
      }
    },
    {
      "cell_type": "markdown",
      "source": [
        "6. **3-day average of the daily gross profit from the sales_data_2.csv**"
      ],
      "metadata": {
        "id": "l3QJrnFDo1nl"
      }
    },
    {
      "cell_type": "code",
      "source": [
        "df2 = pd.read_csv(\"/content/sales_data_2.csv\")"
      ],
      "metadata": {
        "id": "DztTWYX3vfub"
      },
      "execution_count": 108,
      "outputs": []
    },
    {
      "cell_type": "code",
      "source": [
        "df2['Total Revenue'] = df2['Selling price'] * df2['Quantity sold']\n",
        "df2['Total Cost'] = df2['Buying price'] * df2['Quantity sold']\n",
        "df2['Gross Profit'] = df2['Total Revenue'] - df2['Total Cost']\n",
        "df2['3-Day Avg Gross Profit'] = df2['Gross Profit'].rolling(3).mean()"
      ],
      "metadata": {
        "id": "UGZt6YAEb8Id"
      },
      "execution_count": 109,
      "outputs": []
    },
    {
      "cell_type": "code",
      "source": [
        "df2"
      ],
      "metadata": {
        "colab": {
          "base_uri": "https://localhost:8080/",
          "height": 614
        },
        "id": "IVtEbWiro7n2",
        "outputId": "24edc8fc-6f11-4d54-9eb3-405407c47328"
      },
      "execution_count": 110,
      "outputs": [
        {
          "output_type": "execute_result",
          "data": {
            "text/plain": [
              "          Date Firm bought from  Buying price  Quantity bought   Customer  \\\n",
              "0   2023-08-21          Vendor6         72.11               60  Customer7   \n",
              "1   2023-08-21          Vendor4         75.08               92  Customer7   \n",
              "2   2023-08-21          Vendor7         83.93               16  Customer2   \n",
              "3   2023-08-21          Vendor7         52.01               62  Customer3   \n",
              "4   2023-08-21          Vendor2         98.91                1  Customer5   \n",
              "..         ...              ...           ...              ...        ...   \n",
              "65  2023-08-27          Vendor4         64.82               28  Customer6   \n",
              "66  2023-08-27          Vendor8         88.79               14  Customer3   \n",
              "67  2023-08-27          Vendor5         63.30               81  Customer5   \n",
              "68  2023-08-27          Vendor5         94.06               18  Customer5   \n",
              "69  2023-08-27          Vendor5         56.28               25  Customer6   \n",
              "\n",
              "    Selling price  Quantity sold  Total Revenue  Total Cost  Gross Profit  \\\n",
              "0           91.58             44        4029.52     3172.84        856.68   \n",
              "1           83.71             17        1423.07     1276.36        146.71   \n",
              "2          103.76             15        1556.40     1258.95        297.45   \n",
              "3           64.53              7         451.71      364.07         87.64   \n",
              "4          140.92              1         140.92       98.91         42.01   \n",
              "..            ...            ...            ...         ...           ...   \n",
              "65          87.45             18        1574.10     1166.76        407.34   \n",
              "66         105.59              5         527.95      443.95         84.00   \n",
              "67          92.92             32        2973.44     2025.60        947.84   \n",
              "68         125.67              4         502.68      376.24        126.44   \n",
              "69          82.16              1          82.16       56.28         25.88   \n",
              "\n",
              "    3-Day Avg Gross Profit  \n",
              "0                      NaN  \n",
              "1                      NaN  \n",
              "2               433.613333  \n",
              "3               177.266667  \n",
              "4               142.366667  \n",
              "..                     ...  \n",
              "65              552.863333  \n",
              "66              552.070000  \n",
              "67              479.726667  \n",
              "68              386.093333  \n",
              "69              366.720000  \n",
              "\n",
              "[70 rows x 11 columns]"
            ],
            "text/html": [
              "\n",
              "  <div id=\"df-ec07f883-ac9a-414d-a9b9-5443cab34393\" class=\"colab-df-container\">\n",
              "    <div>\n",
              "<style scoped>\n",
              "    .dataframe tbody tr th:only-of-type {\n",
              "        vertical-align: middle;\n",
              "    }\n",
              "\n",
              "    .dataframe tbody tr th {\n",
              "        vertical-align: top;\n",
              "    }\n",
              "\n",
              "    .dataframe thead th {\n",
              "        text-align: right;\n",
              "    }\n",
              "</style>\n",
              "<table border=\"1\" class=\"dataframe\">\n",
              "  <thead>\n",
              "    <tr style=\"text-align: right;\">\n",
              "      <th></th>\n",
              "      <th>Date</th>\n",
              "      <th>Firm bought from</th>\n",
              "      <th>Buying price</th>\n",
              "      <th>Quantity bought</th>\n",
              "      <th>Customer</th>\n",
              "      <th>Selling price</th>\n",
              "      <th>Quantity sold</th>\n",
              "      <th>Total Revenue</th>\n",
              "      <th>Total Cost</th>\n",
              "      <th>Gross Profit</th>\n",
              "      <th>3-Day Avg Gross Profit</th>\n",
              "    </tr>\n",
              "  </thead>\n",
              "  <tbody>\n",
              "    <tr>\n",
              "      <th>0</th>\n",
              "      <td>2023-08-21</td>\n",
              "      <td>Vendor6</td>\n",
              "      <td>72.11</td>\n",
              "      <td>60</td>\n",
              "      <td>Customer7</td>\n",
              "      <td>91.58</td>\n",
              "      <td>44</td>\n",
              "      <td>4029.52</td>\n",
              "      <td>3172.84</td>\n",
              "      <td>856.68</td>\n",
              "      <td>NaN</td>\n",
              "    </tr>\n",
              "    <tr>\n",
              "      <th>1</th>\n",
              "      <td>2023-08-21</td>\n",
              "      <td>Vendor4</td>\n",
              "      <td>75.08</td>\n",
              "      <td>92</td>\n",
              "      <td>Customer7</td>\n",
              "      <td>83.71</td>\n",
              "      <td>17</td>\n",
              "      <td>1423.07</td>\n",
              "      <td>1276.36</td>\n",
              "      <td>146.71</td>\n",
              "      <td>NaN</td>\n",
              "    </tr>\n",
              "    <tr>\n",
              "      <th>2</th>\n",
              "      <td>2023-08-21</td>\n",
              "      <td>Vendor7</td>\n",
              "      <td>83.93</td>\n",
              "      <td>16</td>\n",
              "      <td>Customer2</td>\n",
              "      <td>103.76</td>\n",
              "      <td>15</td>\n",
              "      <td>1556.40</td>\n",
              "      <td>1258.95</td>\n",
              "      <td>297.45</td>\n",
              "      <td>433.613333</td>\n",
              "    </tr>\n",
              "    <tr>\n",
              "      <th>3</th>\n",
              "      <td>2023-08-21</td>\n",
              "      <td>Vendor7</td>\n",
              "      <td>52.01</td>\n",
              "      <td>62</td>\n",
              "      <td>Customer3</td>\n",
              "      <td>64.53</td>\n",
              "      <td>7</td>\n",
              "      <td>451.71</td>\n",
              "      <td>364.07</td>\n",
              "      <td>87.64</td>\n",
              "      <td>177.266667</td>\n",
              "    </tr>\n",
              "    <tr>\n",
              "      <th>4</th>\n",
              "      <td>2023-08-21</td>\n",
              "      <td>Vendor2</td>\n",
              "      <td>98.91</td>\n",
              "      <td>1</td>\n",
              "      <td>Customer5</td>\n",
              "      <td>140.92</td>\n",
              "      <td>1</td>\n",
              "      <td>140.92</td>\n",
              "      <td>98.91</td>\n",
              "      <td>42.01</td>\n",
              "      <td>142.366667</td>\n",
              "    </tr>\n",
              "    <tr>\n",
              "      <th>...</th>\n",
              "      <td>...</td>\n",
              "      <td>...</td>\n",
              "      <td>...</td>\n",
              "      <td>...</td>\n",
              "      <td>...</td>\n",
              "      <td>...</td>\n",
              "      <td>...</td>\n",
              "      <td>...</td>\n",
              "      <td>...</td>\n",
              "      <td>...</td>\n",
              "      <td>...</td>\n",
              "    </tr>\n",
              "    <tr>\n",
              "      <th>65</th>\n",
              "      <td>2023-08-27</td>\n",
              "      <td>Vendor4</td>\n",
              "      <td>64.82</td>\n",
              "      <td>28</td>\n",
              "      <td>Customer6</td>\n",
              "      <td>87.45</td>\n",
              "      <td>18</td>\n",
              "      <td>1574.10</td>\n",
              "      <td>1166.76</td>\n",
              "      <td>407.34</td>\n",
              "      <td>552.863333</td>\n",
              "    </tr>\n",
              "    <tr>\n",
              "      <th>66</th>\n",
              "      <td>2023-08-27</td>\n",
              "      <td>Vendor8</td>\n",
              "      <td>88.79</td>\n",
              "      <td>14</td>\n",
              "      <td>Customer3</td>\n",
              "      <td>105.59</td>\n",
              "      <td>5</td>\n",
              "      <td>527.95</td>\n",
              "      <td>443.95</td>\n",
              "      <td>84.00</td>\n",
              "      <td>552.070000</td>\n",
              "    </tr>\n",
              "    <tr>\n",
              "      <th>67</th>\n",
              "      <td>2023-08-27</td>\n",
              "      <td>Vendor5</td>\n",
              "      <td>63.30</td>\n",
              "      <td>81</td>\n",
              "      <td>Customer5</td>\n",
              "      <td>92.92</td>\n",
              "      <td>32</td>\n",
              "      <td>2973.44</td>\n",
              "      <td>2025.60</td>\n",
              "      <td>947.84</td>\n",
              "      <td>479.726667</td>\n",
              "    </tr>\n",
              "    <tr>\n",
              "      <th>68</th>\n",
              "      <td>2023-08-27</td>\n",
              "      <td>Vendor5</td>\n",
              "      <td>94.06</td>\n",
              "      <td>18</td>\n",
              "      <td>Customer5</td>\n",
              "      <td>125.67</td>\n",
              "      <td>4</td>\n",
              "      <td>502.68</td>\n",
              "      <td>376.24</td>\n",
              "      <td>126.44</td>\n",
              "      <td>386.093333</td>\n",
              "    </tr>\n",
              "    <tr>\n",
              "      <th>69</th>\n",
              "      <td>2023-08-27</td>\n",
              "      <td>Vendor5</td>\n",
              "      <td>56.28</td>\n",
              "      <td>25</td>\n",
              "      <td>Customer6</td>\n",
              "      <td>82.16</td>\n",
              "      <td>1</td>\n",
              "      <td>82.16</td>\n",
              "      <td>56.28</td>\n",
              "      <td>25.88</td>\n",
              "      <td>366.720000</td>\n",
              "    </tr>\n",
              "  </tbody>\n",
              "</table>\n",
              "<p>70 rows × 11 columns</p>\n",
              "</div>\n",
              "    <div class=\"colab-df-buttons\">\n",
              "\n",
              "  <div class=\"colab-df-container\">\n",
              "    <button class=\"colab-df-convert\" onclick=\"convertToInteractive('df-ec07f883-ac9a-414d-a9b9-5443cab34393')\"\n",
              "            title=\"Convert this dataframe to an interactive table.\"\n",
              "            style=\"display:none;\">\n",
              "\n",
              "  <svg xmlns=\"http://www.w3.org/2000/svg\" height=\"24px\" viewBox=\"0 -960 960 960\">\n",
              "    <path d=\"M120-120v-720h720v720H120Zm60-500h600v-160H180v160Zm220 220h160v-160H400v160Zm0 220h160v-160H400v160ZM180-400h160v-160H180v160Zm440 0h160v-160H620v160ZM180-180h160v-160H180v160Zm440 0h160v-160H620v160Z\"/>\n",
              "  </svg>\n",
              "    </button>\n",
              "\n",
              "  <style>\n",
              "    .colab-df-container {\n",
              "      display:flex;\n",
              "      gap: 12px;\n",
              "    }\n",
              "\n",
              "    .colab-df-convert {\n",
              "      background-color: #E8F0FE;\n",
              "      border: none;\n",
              "      border-radius: 50%;\n",
              "      cursor: pointer;\n",
              "      display: none;\n",
              "      fill: #1967D2;\n",
              "      height: 32px;\n",
              "      padding: 0 0 0 0;\n",
              "      width: 32px;\n",
              "    }\n",
              "\n",
              "    .colab-df-convert:hover {\n",
              "      background-color: #E2EBFA;\n",
              "      box-shadow: 0px 1px 2px rgba(60, 64, 67, 0.3), 0px 1px 3px 1px rgba(60, 64, 67, 0.15);\n",
              "      fill: #174EA6;\n",
              "    }\n",
              "\n",
              "    .colab-df-buttons div {\n",
              "      margin-bottom: 4px;\n",
              "    }\n",
              "\n",
              "    [theme=dark] .colab-df-convert {\n",
              "      background-color: #3B4455;\n",
              "      fill: #D2E3FC;\n",
              "    }\n",
              "\n",
              "    [theme=dark] .colab-df-convert:hover {\n",
              "      background-color: #434B5C;\n",
              "      box-shadow: 0px 1px 3px 1px rgba(0, 0, 0, 0.15);\n",
              "      filter: drop-shadow(0px 1px 2px rgba(0, 0, 0, 0.3));\n",
              "      fill: #FFFFFF;\n",
              "    }\n",
              "  </style>\n",
              "\n",
              "    <script>\n",
              "      const buttonEl =\n",
              "        document.querySelector('#df-ec07f883-ac9a-414d-a9b9-5443cab34393 button.colab-df-convert');\n",
              "      buttonEl.style.display =\n",
              "        google.colab.kernel.accessAllowed ? 'block' : 'none';\n",
              "\n",
              "      async function convertToInteractive(key) {\n",
              "        const element = document.querySelector('#df-ec07f883-ac9a-414d-a9b9-5443cab34393');\n",
              "        const dataTable =\n",
              "          await google.colab.kernel.invokeFunction('convertToInteractive',\n",
              "                                                    [key], {});\n",
              "        if (!dataTable) return;\n",
              "\n",
              "        const docLinkHtml = 'Like what you see? Visit the ' +\n",
              "          '<a target=\"_blank\" href=https://colab.research.google.com/notebooks/data_table.ipynb>data table notebook</a>'\n",
              "          + ' to learn more about interactive tables.';\n",
              "        element.innerHTML = '';\n",
              "        dataTable['output_type'] = 'display_data';\n",
              "        await google.colab.output.renderOutput(dataTable, element);\n",
              "        const docLink = document.createElement('div');\n",
              "        docLink.innerHTML = docLinkHtml;\n",
              "        element.appendChild(docLink);\n",
              "      }\n",
              "    </script>\n",
              "  </div>\n",
              "\n",
              "\n",
              "<div id=\"df-34b3af2f-c93a-491a-9a9f-fb460091d62c\">\n",
              "  <button class=\"colab-df-quickchart\" onclick=\"quickchart('df-34b3af2f-c93a-491a-9a9f-fb460091d62c')\"\n",
              "            title=\"Suggest charts.\"\n",
              "            style=\"display:none;\">\n",
              "\n",
              "<svg xmlns=\"http://www.w3.org/2000/svg\" height=\"24px\"viewBox=\"0 0 24 24\"\n",
              "     width=\"24px\">\n",
              "    <g>\n",
              "        <path d=\"M19 3H5c-1.1 0-2 .9-2 2v14c0 1.1.9 2 2 2h14c1.1 0 2-.9 2-2V5c0-1.1-.9-2-2-2zM9 17H7v-7h2v7zm4 0h-2V7h2v10zm4 0h-2v-4h2v4z\"/>\n",
              "    </g>\n",
              "</svg>\n",
              "  </button>\n",
              "\n",
              "<style>\n",
              "  .colab-df-quickchart {\n",
              "      --bg-color: #E8F0FE;\n",
              "      --fill-color: #1967D2;\n",
              "      --hover-bg-color: #E2EBFA;\n",
              "      --hover-fill-color: #174EA6;\n",
              "      --disabled-fill-color: #AAA;\n",
              "      --disabled-bg-color: #DDD;\n",
              "  }\n",
              "\n",
              "  [theme=dark] .colab-df-quickchart {\n",
              "      --bg-color: #3B4455;\n",
              "      --fill-color: #D2E3FC;\n",
              "      --hover-bg-color: #434B5C;\n",
              "      --hover-fill-color: #FFFFFF;\n",
              "      --disabled-bg-color: #3B4455;\n",
              "      --disabled-fill-color: #666;\n",
              "  }\n",
              "\n",
              "  .colab-df-quickchart {\n",
              "    background-color: var(--bg-color);\n",
              "    border: none;\n",
              "    border-radius: 50%;\n",
              "    cursor: pointer;\n",
              "    display: none;\n",
              "    fill: var(--fill-color);\n",
              "    height: 32px;\n",
              "    padding: 0;\n",
              "    width: 32px;\n",
              "  }\n",
              "\n",
              "  .colab-df-quickchart:hover {\n",
              "    background-color: var(--hover-bg-color);\n",
              "    box-shadow: 0 1px 2px rgba(60, 64, 67, 0.3), 0 1px 3px 1px rgba(60, 64, 67, 0.15);\n",
              "    fill: var(--button-hover-fill-color);\n",
              "  }\n",
              "\n",
              "  .colab-df-quickchart-complete:disabled,\n",
              "  .colab-df-quickchart-complete:disabled:hover {\n",
              "    background-color: var(--disabled-bg-color);\n",
              "    fill: var(--disabled-fill-color);\n",
              "    box-shadow: none;\n",
              "  }\n",
              "\n",
              "  .colab-df-spinner {\n",
              "    border: 2px solid var(--fill-color);\n",
              "    border-color: transparent;\n",
              "    border-bottom-color: var(--fill-color);\n",
              "    animation:\n",
              "      spin 1s steps(1) infinite;\n",
              "  }\n",
              "\n",
              "  @keyframes spin {\n",
              "    0% {\n",
              "      border-color: transparent;\n",
              "      border-bottom-color: var(--fill-color);\n",
              "      border-left-color: var(--fill-color);\n",
              "    }\n",
              "    20% {\n",
              "      border-color: transparent;\n",
              "      border-left-color: var(--fill-color);\n",
              "      border-top-color: var(--fill-color);\n",
              "    }\n",
              "    30% {\n",
              "      border-color: transparent;\n",
              "      border-left-color: var(--fill-color);\n",
              "      border-top-color: var(--fill-color);\n",
              "      border-right-color: var(--fill-color);\n",
              "    }\n",
              "    40% {\n",
              "      border-color: transparent;\n",
              "      border-right-color: var(--fill-color);\n",
              "      border-top-color: var(--fill-color);\n",
              "    }\n",
              "    60% {\n",
              "      border-color: transparent;\n",
              "      border-right-color: var(--fill-color);\n",
              "    }\n",
              "    80% {\n",
              "      border-color: transparent;\n",
              "      border-right-color: var(--fill-color);\n",
              "      border-bottom-color: var(--fill-color);\n",
              "    }\n",
              "    90% {\n",
              "      border-color: transparent;\n",
              "      border-bottom-color: var(--fill-color);\n",
              "    }\n",
              "  }\n",
              "</style>\n",
              "\n",
              "  <script>\n",
              "    async function quickchart(key) {\n",
              "      const quickchartButtonEl =\n",
              "        document.querySelector('#' + key + ' button');\n",
              "      quickchartButtonEl.disabled = true;  // To prevent multiple clicks.\n",
              "      quickchartButtonEl.classList.add('colab-df-spinner');\n",
              "      try {\n",
              "        const charts = await google.colab.kernel.invokeFunction(\n",
              "            'suggestCharts', [key], {});\n",
              "      } catch (error) {\n",
              "        console.error('Error during call to suggestCharts:', error);\n",
              "      }\n",
              "      quickchartButtonEl.classList.remove('colab-df-spinner');\n",
              "      quickchartButtonEl.classList.add('colab-df-quickchart-complete');\n",
              "    }\n",
              "    (() => {\n",
              "      let quickchartButtonEl =\n",
              "        document.querySelector('#df-34b3af2f-c93a-491a-9a9f-fb460091d62c button');\n",
              "      quickchartButtonEl.style.display =\n",
              "        google.colab.kernel.accessAllowed ? 'block' : 'none';\n",
              "    })();\n",
              "  </script>\n",
              "</div>\n",
              "    </div>\n",
              "  </div>\n"
            ]
          },
          "metadata": {},
          "execution_count": 110
        }
      ]
    },
    {
      "cell_type": "markdown",
      "source": [
        "7. **The 3-day mean is varying from 18 to 1673 and there are  clear spikes in the variation on 3 day basis**"
      ],
      "metadata": {
        "id": "sLINzXkcqK73"
      }
    },
    {
      "cell_type": "code",
      "source": [
        "df2['3-Day Avg Gross Profit']\n"
      ],
      "metadata": {
        "colab": {
          "base_uri": "https://localhost:8080/"
        },
        "id": "gwX63Cd9yBSh",
        "outputId": "83bd4708-1182-4f1e-fa9a-e5925b28a9c3"
      },
      "execution_count": 111,
      "outputs": [
        {
          "output_type": "execute_result",
          "data": {
            "text/plain": [
              "0            NaN\n",
              "1            NaN\n",
              "2     433.613333\n",
              "3     177.266667\n",
              "4     142.366667\n",
              "         ...    \n",
              "65    552.863333\n",
              "66    552.070000\n",
              "67    479.726667\n",
              "68    386.093333\n",
              "69    366.720000\n",
              "Name: 3-Day Avg Gross Profit, Length: 70, dtype: float64"
            ]
          },
          "metadata": {},
          "execution_count": 111
        }
      ]
    },
    {
      "cell_type": "code",
      "source": [
        "df2['3-Day Avg Gross Profit'].min()\n"
      ],
      "metadata": {
        "colab": {
          "base_uri": "https://localhost:8080/"
        },
        "id": "vHX9GPAfo-xt",
        "outputId": "9eba8194-fb71-474a-919c-8e0363102062"
      },
      "execution_count": 112,
      "outputs": [
        {
          "output_type": "execute_result",
          "data": {
            "text/plain": [
              "18.25"
            ]
          },
          "metadata": {},
          "execution_count": 112
        }
      ]
    },
    {
      "cell_type": "code",
      "source": [
        "df2['3-Day Avg Gross Profit'].max()"
      ],
      "metadata": {
        "colab": {
          "base_uri": "https://localhost:8080/"
        },
        "id": "LX58JE7vpsX4",
        "outputId": "81f394cd-b819-4398-e8a6-12088e518162"
      },
      "execution_count": 113,
      "outputs": [
        {
          "output_type": "execute_result",
          "data": {
            "text/plain": [
              "1673.4699999999996"
            ]
          },
          "metadata": {},
          "execution_count": 113
        }
      ]
    },
    {
      "cell_type": "markdown",
      "source": [
        "**8**"
      ],
      "metadata": {
        "id": "DZ11I8R1rLoa"
      }
    },
    {
      "cell_type": "code",
      "source": [
        "vendor_profit = df2.groupby('Firm bought from')['Gross Profit'].sum()"
      ],
      "metadata": {
        "id": "zhtyuC3Np9LS"
      },
      "execution_count": 114,
      "outputs": []
    },
    {
      "cell_type": "markdown",
      "source": [
        " **8a. The vendor 8  is  having the lowest gross profit compared to other vendors and it will not affect the overall business firing this vendor**"
      ],
      "metadata": {
        "id": "B64R2BbFrjU3"
      }
    },
    {
      "cell_type": "code",
      "source": [
        "vendor_profit"
      ],
      "metadata": {
        "colab": {
          "base_uri": "https://localhost:8080/"
        },
        "id": "SST9xQkErMe2",
        "outputId": "2d2d0c01-a144-470e-c4f1-e5a201b26c33"
      },
      "execution_count": 115,
      "outputs": [
        {
          "output_type": "execute_result",
          "data": {
            "text/plain": [
              "Firm bought from\n",
              "Vendor1     1555.59\n",
              "Vendor10    3040.62\n",
              "Vendor2     1296.98\n",
              "Vendor3     6370.67\n",
              "Vendor4     6903.31\n",
              "Vendor5     1616.14\n",
              "Vendor6     1217.95\n",
              "Vendor7     4961.05\n",
              "Vendor8      253.74\n",
              "Vendor9     4266.70\n",
              "Name: Gross Profit, dtype: float64"
            ]
          },
          "metadata": {},
          "execution_count": 115
        }
      ]
    },
    {
      "cell_type": "code",
      "source": [
        "customer_profit = df2.groupby('Customer')['Gross Profit'].sum()"
      ],
      "metadata": {
        "id": "AkeME6lFrPPy"
      },
      "execution_count": 116,
      "outputs": []
    },
    {
      "cell_type": "markdown",
      "source": [
        "**8b. After anlayzing the profit through customers. Letting go of any customer will affect the business because they are all potential customers**"
      ],
      "metadata": {
        "id": "7fClxqmxr4A7"
      }
    },
    {
      "cell_type": "code",
      "source": [
        "import matplotlib.pyplot as plt\n",
        "\n",
        "# Group by customer and calculate a relevant metric (e.g., total revenue or gross profit)\n",
        "customer_metric = df2.groupby('Customer')['Total Revenue'].sum()  # You can change 'Total Revenue' to the metric of your choice\n",
        "\n",
        "# Create a bar chart to visualize customer data\n",
        "plt.figure(figsize=(12, 6))\n",
        "customer_metric.plot(kind='bar', color='skyblue')\n",
        "plt.xlabel('Customer')\n",
        "plt.ylabel('Metric Value')\n",
        "plt.title('Customer Metrics')\n",
        "plt.xticks(rotation=45)\n",
        "plt.show()"
      ],
      "metadata": {
        "colab": {
          "base_uri": "https://localhost:8080/",
          "height": 620
        },
        "id": "JmZCbwJ7BLUB",
        "outputId": "47d0e5eb-ea69-4e2e-eaf8-a17a5dd99485"
      },
      "execution_count": 135,
      "outputs": [
        {
          "output_type": "display_data",
          "data": {
            "text/plain": [
              "<Figure size 1200x600 with 1 Axes>"
            ],
            "image/png": "[encoded data removed]"
          },
          "metadata": {}
        }
      ]
    },
    {
      "cell_type": "code",
      "source": [
        "customer_profit"
      ],
      "metadata": {
        "colab": {
          "base_uri": "https://localhost:8080/"
        },
        "id": "Y7Q8z5yyrUtF",
        "outputId": "8bfaffbf-3e38-4f9c-ef0c-cee7fd9163e9"
      },
      "execution_count": 117,
      "outputs": [
        {
          "output_type": "execute_result",
          "data": {
            "text/plain": [
              "Customer\n",
              "Customer1     5310.57\n",
              "Customer10    3692.44\n",
              "Customer2     4215.67\n",
              "Customer3     1055.05\n",
              "Customer4     3337.37\n",
              "Customer5     1315.28\n",
              "Customer6     1930.76\n",
              "Customer7     2197.62\n",
              "Customer8     6498.91\n",
              "Customer9     1929.08\n",
              "Name: Gross Profit, dtype: float64"
            ]
          },
          "metadata": {},
          "execution_count": 117
        }
      ]
    },
    {
      "cell_type": "markdown",
      "source": [
        "9. **The 25th, 50th (median), and 75th percentiles for both buying and selling prices**"
      ],
      "metadata": {
        "id": "nM78qStes0kB"
      }
    },
    {
      "cell_type": "code",
      "source": [
        "percentiles = [25, 50, 75]\n",
        "buying_price_percentiles = df2['Buying price'].quantile([0.25, 0.5, 0.75])\n",
        "selling_price_percentiles = df2['Selling price'].quantile([0.25, 0.5, 0.75])"
      ],
      "metadata": {
        "id": "M6nPNRxNrXKd"
      },
      "execution_count": 118,
      "outputs": []
    },
    {
      "cell_type": "code",
      "source": [
        "buying_price_percentiles"
      ],
      "metadata": {
        "colab": {
          "base_uri": "https://localhost:8080/"
        },
        "id": "24eYGxZOs3Uk",
        "outputId": "f188ae3b-8944-424c-9979-4d4237b725fd"
      },
      "execution_count": 119,
      "outputs": [
        {
          "output_type": "execute_result",
          "data": {
            "text/plain": [
              "0.25    29.90\n",
              "0.50    60.76\n",
              "0.75    78.32\n",
              "Name: Buying price, dtype: float64"
            ]
          },
          "metadata": {},
          "execution_count": 119
        }
      ]
    },
    {
      "cell_type": "code",
      "source": [
        "selling_price_percentiles"
      ],
      "metadata": {
        "colab": {
          "base_uri": "https://localhost:8080/"
        },
        "id": "GYW5RTAEs85g",
        "outputId": "5db55c1c-682c-4773-ab45-fac37a486097"
      },
      "execution_count": 120,
      "outputs": [
        {
          "output_type": "execute_result",
          "data": {
            "text/plain": [
              "0.25     38.9750\n",
              "0.50     78.9900\n",
              "0.75    103.3975\n",
              "Name: Selling price, dtype: float64"
            ]
          },
          "metadata": {},
          "execution_count": 120
        }
      ]
    },
    {
      "cell_type": "markdown",
      "source": [
        "10"
      ],
      "metadata": {
        "id": "HfsDKdxDtF5O"
      }
    },
    {
      "cell_type": "markdown",
      "source": [
        "**Below 25th Percentile Frequency (18 times): This means that in 18 instances in the dataset, the buying or selling price of Sapota was cheaper compared to most other prices in the data. It suggests that, in those cases, they offered Sapota at a relatively lower price.**\n",
        "\n",
        "**Above 75th Percentile Frequency (21 times): This indicates that in 21 instances in the dataset, the buying or selling price of Sapota was more expensive compared to most other prices in the data. It suggests that, in those cases, they sold Sapota at a relatively higher price.**"
      ],
      "metadata": {
        "id": "ez0POngBtR72"
      }
    },
    {
      "cell_type": "code",
      "source": [
        "below_25th_percentile = (df2['Buying price'] < buying_price_percentiles[0.25]) | (df2['Selling price'] < selling_price_percentiles[0.25])\n",
        "above_75th_percentile = (df2['Buying price'] > buying_price_percentiles[0.75]) | (df2['Selling price'] > selling_price_percentiles[0.75])\n",
        "\n",
        "print(\"Below 25th percentile frequency:\", below_25th_percentile.sum())\n",
        "print(\"Above 75th percentile frequency:\", above_75th_percentile.sum())"
      ],
      "metadata": {
        "colab": {
          "base_uri": "https://localhost:8080/"
        },
        "id": "UFK6ff0ZtB4p",
        "outputId": "3c466d39-70a6-428a-feb6-6b8aa4d0c921"
      },
      "execution_count": 121,
      "outputs": [
        {
          "output_type": "stream",
          "name": "stdout",
          "text": [
            "Below 25th percentile frequency: 18\n",
            "Above 75th percentile frequency: 21\n"
          ]
        }
      ]
    },
    {
      "cell_type": "markdown",
      "source": [
        "11"
      ],
      "metadata": {
        "id": "YTXw9JDKuQmn"
      }
    },
    {
      "cell_type": "markdown",
      "source": [
        "**As you can see vendor 4 is having high profit considering other vendors and thats why Bharath is saying to honor vendor 4 and after honoring him the there is a chance in increase of the gross margin and he can be an asset to the business**"
      ],
      "metadata": {
        "id": "a0beXgL9udDG"
      }
    },
    {
      "cell_type": "code",
      "source": [
        "vendor_profit"
      ],
      "metadata": {
        "colab": {
          "base_uri": "https://localhost:8080/"
        },
        "id": "BMgEX7PFtOoK",
        "outputId": "f940d877-4927-421d-dbe3-e70b02d53193"
      },
      "execution_count": 122,
      "outputs": [
        {
          "output_type": "execute_result",
          "data": {
            "text/plain": [
              "Firm bought from\n",
              "Vendor1     1555.59\n",
              "Vendor10    3040.62\n",
              "Vendor2     1296.98\n",
              "Vendor3     6370.67\n",
              "Vendor4     6903.31\n",
              "Vendor5     1616.14\n",
              "Vendor6     1217.95\n",
              "Vendor7     4961.05\n",
              "Vendor8      253.74\n",
              "Vendor9     4266.70\n",
              "Name: Gross Profit, dtype: float64"
            ]
          },
          "metadata": {},
          "execution_count": 122
        }
      ]
    },
    {
      "cell_type": "markdown",
      "source": [
        "12. **Max gross margin the firm could have in that branch**"
      ],
      "metadata": {
        "id": "TCAOQTJgwmxS"
      }
    },
    {
      "cell_type": "code",
      "source": [
        "# Find the vendor with the highest total profit\n",
        "strategic_vendor = vendor_profit.idxmax()\n",
        "max_margin = vendor_profit.max()\n",
        "print(\"Vendor with Highest Gross Margin:\", strategic_vendor)\n",
        "print(\"Max Margin of that Vendor: {:.2f}\".format(max_margin))\n"
      ],
      "metadata": {
        "colab": {
          "base_uri": "https://localhost:8080/"
        },
        "id": "adiTDEcxubqu",
        "outputId": "b2c707aa-b673-4c3f-e41e-940b47839c95"
      },
      "execution_count": 123,
      "outputs": [
        {
          "output_type": "stream",
          "name": "stdout",
          "text": [
            "Vendor with Highest Gross Margin: Vendor4\n",
            "Max Margin of that Vendor: 6903.31\n"
          ]
        }
      ]
    },
    {
      "cell_type": "markdown",
      "source": [
        "13. **Increaing and decreasing the price by 1 and analyzing the chnages**"
      ],
      "metadata": {
        "id": "7zDmH0AuwuA4"
      }
    },
    {
      "cell_type": "code",
      "source": [
        "# Price Change Increase\n",
        "price_change = 1\n",
        "\n",
        "# Calculate the initial total quantity sold\n",
        "initial_quantity_sold = df2['Quantity sold'].sum()\n",
        "\n",
        "# Calculate the total quantity sold after increasing the price\n",
        "df2['New Selling Price'] = df2['Selling price'] + price_change\n",
        "new_quantity_sold = df2['New Selling Price'] * df2['Quantity sold']\n",
        "new_total_quantity_sold = new_quantity_sold.sum()\n",
        "\n",
        "# Calculate the percentage change in quantity sold\n",
        "percentage_change_quantity_sold = ((new_total_quantity_sold - initial_quantity_sold) / initial_quantity_sold) * 100\n",
        "\n",
        "# Calculate the percentage change in price\n",
        "percentage_change_price = (price_change / df2['Selling price'].mean()) * 100\n",
        "\n",
        "# Calculate price elasticity\n",
        "i_elasticity = percentage_change_quantity_sold / percentage_change_price\n",
        "print(\"Change in price of Sapota for that Branch icreasing by 1: {:.2f}\".format(i_elasticity))\n"
      ],
      "metadata": {
        "colab": {
          "base_uri": "https://localhost:8080/"
        },
        "id": "O3li2B7RwrpN",
        "outputId": "ee02b80d-3824-4517-90eb-4f40ede9313d"
      },
      "execution_count": 124,
      "outputs": [
        {
          "output_type": "stream",
          "name": "stdout",
          "text": [
            "Change in price of Sapota for that Branch icreasing by 1: 5566.55\n"
          ]
        }
      ]
    },
    {
      "cell_type": "code",
      "source": [
        "# Price Change Increase\n",
        "price_change = 1\n",
        "\n",
        "# Calculate the initial total quantity sold\n",
        "initial_quantity_sold = df2['Quantity sold'].sum()\n",
        "\n",
        "# Calculate the total quantity sold after increasing the price\n",
        "df2['New Selling Price'] = df2['Selling price'] - price_change\n",
        "new_quantity_sold = df2['New Selling Price'] * df2['Quantity sold']\n",
        "new_total_quantity_sold = new_quantity_sold.sum()\n",
        "\n",
        "# Calculate the percentage change in quantity sold\n",
        "percentage_change_quantity_sold = ((new_total_quantity_sold - initial_quantity_sold) / initial_quantity_sold) * 100\n",
        "\n",
        "# Calculate the percentage change in price\n",
        "percentage_change_price = (price_change / df2['Selling price'].mean()) * 100\n",
        "\n",
        "# Calculate price elasticity\n",
        "d_elasticity = percentage_change_quantity_sold / percentage_change_price\n",
        "print(\"Change in price of Sapota for that Branch decreasing by 1: {:.2f}\".format(d_elasticity))\n"
      ],
      "metadata": {
        "colab": {
          "base_uri": "https://localhost:8080/"
        },
        "id": "SnFZLPvcwxOy",
        "outputId": "a02ea599-6829-41f5-aaab-da91d74309fd"
      },
      "execution_count": 125,
      "outputs": [
        {
          "output_type": "stream",
          "name": "stdout",
          "text": [
            "Change in price of Sapota for that Branch decreasing by 1: 5418.72\n"
          ]
        }
      ]
    },
    {
      "cell_type": "code",
      "source": [
        "Total_change = (i_elasticity - d_elasticity)\n",
        "print(Total_change)"
      ],
      "metadata": {
        "colab": {
          "base_uri": "https://localhost:8080/"
        },
        "id": "D4iMPkba1hDj",
        "outputId": "8887c97e-9a7c-4fc0-8471-cb8c0318b616"
      },
      "execution_count": 126,
      "outputs": [
        {
          "output_type": "stream",
          "name": "stdout",
          "text": [
            "147.8265714285717\n"
          ]
        }
      ]
    },
    {
      "cell_type": "markdown",
      "source": [
        "**Here there is a change of 147 Rs by increasing 1 Rs and decreasing 1 Rs**"
      ],
      "metadata": {
        "id": "YZJnMVWq3cCZ"
      }
    },
    {
      "cell_type": "code",
      "source": [],
      "metadata": {
        "id": "wTQDwiBnA82W"
      },
      "execution_count": null,
      "outputs": []
    }
  ]
}